{
 "cells": [
  {
   "cell_type": "markdown",
   "id": "7a944e5d",
   "metadata": {},
   "source": [
    "# IMPORTING MODULES"
   ]
  },
  {
   "cell_type": "code",
   "execution_count": 1,
   "id": "d8479cb3",
   "metadata": {},
   "outputs": [],
   "source": [
    "import numpy as np\n",
    "\n",
    "# dataa split\n",
    "from sklearn.model_selection import train_test_split\n",
    "\n",
    "# model Evaluation\n",
    "from sklearn import metrics\n",
    "\n",
    "#navie bayesian and accuracy\n",
    "from sklearn.naive_bayes import GaussianNB\n",
    "from sklearn.metrics import accuracy_score\n",
    "\n",
    "#pandas\n",
    "import pandas as pd\n",
    "import matplotlib.pyplot as plt\n",
    "%matplotlib inline \n",
    "plt.style.use('seaborn')"
   ]
  },
  {
   "cell_type": "code",
   "execution_count": 2,
   "id": "df23cbc1",
   "metadata": {},
   "outputs": [],
   "source": [
    "import seaborn as sns\n",
    "import plotly.express as px\n",
    "\n",
    "# SMOTE\n",
    "from imblearn.over_sampling import SMOTE\n",
    "\n",
    "# scaling\n",
    "from sklearn.preprocessing import StandardScaler\n",
    "\n",
    "# tune\n",
    "from sklearn.model_selection import RandomizedSearchCV\n"
   ]
  },
  {
   "cell_type": "markdown",
   "id": "105f06ed",
   "metadata": {},
   "source": [
    "# READING THE DATASET"
   ]
  },
  {
   "cell_type": "code",
   "execution_count": 3,
   "id": "dbcbe851",
   "metadata": {
    "scrolled": true
   },
   "outputs": [],
   "source": [
    "data=pd.read_csv('D2.csv')"
   ]
  },
  {
   "cell_type": "markdown",
   "id": "496f6473",
   "metadata": {},
   "source": [
    "# DATA ENCODING (PREPARATION)"
   ]
  },
  {
   "cell_type": "code",
   "execution_count": 4,
   "id": "367d42d0",
   "metadata": {},
   "outputs": [],
   "source": [
    "# convert string to numeric using map\n",
    "\n",
    "# gender\n",
    "data['gender'] = data['gender'].map({\n",
    "'Male': int(0),\n",
    "'Female':int(1),\n",
    "'Other':int(2)})\n",
    "\n",
    "# ever_married\n",
    "data['ever_married'] =data['ever_married'].map({\n",
    "'Yes':int(1), \n",
    "'No':int(0)})\n",
    "\n",
    "# work_type\n",
    "data['work_type'] = data['work_type'].map({\n",
    "'Private':int(3), \n",
    "'Self-employed':int(4),\n",
    "'Govt_job':int(2), \n",
    "'children':int(1), \n",
    "'Never_worked':int(0)})\n",
    "\n",
    "# Residence_type\n",
    "data['Residence_type'] = data['Residence_type'].map({\n",
    "'Urban':int(2), \n",
    "'Rural':int(1)})\n",
    "\n",
    "# smoking_status\n",
    "data['smoking_status'] = data['smoking_status'].map({\n",
    "'formerly smoked':int(1),\n",
    "'never smoked':int(2), \n",
    "'smokes':int(3),\n",
    "'Unknown':int(0)})"
   ]
  },
  {
   "cell_type": "markdown",
   "id": "19b019e5",
   "metadata": {},
   "source": [
    "### attributes used in the classification"
   ]
  },
  {
   "cell_type": "code",
   "execution_count": 5,
   "id": "2392536e",
   "metadata": {},
   "outputs": [],
   "source": [
    "x=data[['gender','age','hypertension','heart_disease','ever_married','work_type','Residence_type','avg_glucose_level','bmi','smoking_status']]\n",
    "y=data[['stroke']]\n",
    "x=x.values\n",
    "y=y.values"
   ]
  },
  {
   "cell_type": "markdown",
   "id": "a241d5d7",
   "metadata": {},
   "source": [
    " "
   ]
  },
  {
   "cell_type": "markdown",
   "id": "5562c7f4",
   "metadata": {},
   "source": [
    " "
   ]
  },
  {
   "cell_type": "markdown",
   "id": "c28ab0db",
   "metadata": {},
   "source": [
    " "
   ]
  },
  {
   "cell_type": "markdown",
   "id": "4646ad8d",
   "metadata": {},
   "source": [
    "# SPLIT DATASET "
   ]
  },
  {
   "cell_type": "code",
   "execution_count": 6,
   "id": "594612ba",
   "metadata": {},
   "outputs": [],
   "source": [
    "from sklearn.model_selection import train_test_split\n",
    "from sklearn.datasets import load_iris"
   ]
  },
  {
   "cell_type": "code",
   "execution_count": 7,
   "id": "b7f71006",
   "metadata": {},
   "outputs": [],
   "source": [
    "X_train, X_test, y_train, y_test = train_test_split(x, y, test_size = 0.20,random_state=42)"
   ]
  },
  {
   "cell_type": "code",
   "execution_count": 8,
   "id": "62e8079c",
   "metadata": {},
   "outputs": [
    {
     "name": "stdout",
     "output_type": "stream",
     "text": [
      "(1323, 10)\n",
      "(331, 10)\n"
     ]
    }
   ],
   "source": [
    "print(X_train.shape)\n",
    "print(X_test.shape)"
   ]
  },
  {
   "cell_type": "code",
   "execution_count": 9,
   "id": "8c0e5ce1",
   "metadata": {},
   "outputs": [
    {
     "name": "stdout",
     "output_type": "stream",
     "text": [
      "(1323,)\n",
      "(331,)\n"
     ]
    }
   ],
   "source": [
    "y_train=y_train.flatten()\n",
    "y_test=y_test.flatten()\n",
    "print(y_train.shape)\n",
    "print(y_test.shape)"
   ]
  },
  {
   "cell_type": "markdown",
   "id": "c6c88137",
   "metadata": {},
   "source": [
    " "
   ]
  },
  {
   "cell_type": "markdown",
   "id": "0bad7b4e",
   "metadata": {},
   "source": [
    " "
   ]
  },
  {
   "cell_type": "markdown",
   "id": "c1a442dc",
   "metadata": {},
   "source": [
    " "
   ]
  },
  {
   "cell_type": "markdown",
   "id": "47a18365",
   "metadata": {},
   "source": [
    " "
   ]
  },
  {
   "cell_type": "markdown",
   "id": "40231d80",
   "metadata": {},
   "source": [
    "# NAVIE'S BAYER"
   ]
  },
  {
   "cell_type": "code",
   "execution_count": 10,
   "id": "cdb6c1f9",
   "metadata": {},
   "outputs": [],
   "source": [
    "from sklearn.naive_bayes import GaussianNB"
   ]
  },
  {
   "cell_type": "code",
   "execution_count": 11,
   "id": "c632d09a",
   "metadata": {},
   "outputs": [],
   "source": [
    "model = GaussianNB()\n",
    "model.fit(X_train,y_train)\n",
    "predictions=model.predict(X_test)"
   ]
  },
  {
   "cell_type": "code",
   "execution_count": 12,
   "id": "ef2f3b86",
   "metadata": {},
   "outputs": [
    {
     "name": "stdout",
     "output_type": "stream",
     "text": [
      "[0 1]\n"
     ]
    }
   ],
   "source": [
    "print(np.unique(predictions))"
   ]
  },
  {
   "cell_type": "code",
   "execution_count": 13,
   "id": "45630568",
   "metadata": {},
   "outputs": [
    {
     "name": "stdout",
     "output_type": "stream",
     "text": [
      "1. CONFUSION MATRIX\n",
      " [[264  31]\n",
      " [ 25  11]]\n",
      "\n",
      "2. F1 SCORE\n",
      "F1-score on Test set:\t 0.2820512820512821\n",
      "\n",
      "3. OTHER METRICS\n",
      "              precision    recall  f1-score   support\n",
      "\n",
      "           0       0.91      0.89      0.90       295\n",
      "           1       0.26      0.31      0.28        36\n",
      "\n",
      "    accuracy                           0.83       331\n",
      "   macro avg       0.59      0.60      0.59       331\n",
      "weighted avg       0.84      0.83      0.84       331\n",
      "\n",
      "\n",
      "4. TRAINING AND TEST ERROS\n",
      "Accuracy on Train set\t 0.8261526832955405\n",
      "Error on Train set\t 0.17384731670445952\n",
      "Accuracy on Test set\t 0.8308157099697885\n",
      "Error on Test set\t 0.16918429003021151\n"
     ]
    }
   ],
   "source": [
    "print('1. CONFUSION MATRIX\\n',metrics.confusion_matrix(y_test, predictions))\n",
    "\n",
    "\n",
    "print(\"\\n2. F1 SCORE\")\n",
    "print('F1-score on Test set:\\t',metrics.f1_score(y_test,predictions))\n",
    "\n",
    "print('\\n3. OTHER METRICS')\n",
    "print(metrics.classification_report(y_test, predictions))\n",
    "\n",
    "\n",
    "\n",
    "# accuracy score\n",
    "train_score =model.score(X_train,y_train)\n",
    "test_score = model.score(X_test,y_test)\n",
    "\n",
    "print(\"\\n4. TRAINING AND TEST ERROS\")\n",
    "print('Accuracy on Train set\\t',train_score)\n",
    "print('Error on Train set\\t',1-train_score)\n",
    "print('Accuracy on Test set\\t',test_score)\n",
    "print('Error on Test set\\t',1-test_score)\n",
    "\n",
    "    "
   ]
  },
  {
   "cell_type": "markdown",
   "id": "e7cd1826",
   "metadata": {},
   "source": [
    " "
   ]
  },
  {
   "cell_type": "markdown",
   "id": "d68d7cbc",
   "metadata": {},
   "source": [
    " "
   ]
  },
  {
   "cell_type": "markdown",
   "id": "05d62224",
   "metadata": {},
   "source": [
    " "
   ]
  },
  {
   "cell_type": "markdown",
   "id": "f706de05",
   "metadata": {},
   "source": [
    "# DECISION TREE"
   ]
  },
  {
   "cell_type": "code",
   "execution_count": 14,
   "id": "55168ee3",
   "metadata": {},
   "outputs": [],
   "source": [
    "from sklearn.tree import DecisionTreeClassifier"
   ]
  },
  {
   "cell_type": "code",
   "execution_count": 15,
   "id": "30fe7408",
   "metadata": {},
   "outputs": [],
   "source": [
    "model= DecisionTreeClassifier(random_state=42)\n",
    "model.fit(X_train, y_train)\n",
    "predictions = model.predict(X_test)"
   ]
  },
  {
   "cell_type": "code",
   "execution_count": 16,
   "id": "ac2cf06e",
   "metadata": {},
   "outputs": [
    {
     "name": "stdout",
     "output_type": "stream",
     "text": [
      "[0 1]\n"
     ]
    }
   ],
   "source": [
    "print(np.unique(predictions))"
   ]
  },
  {
   "cell_type": "code",
   "execution_count": 17,
   "id": "10abba9e",
   "metadata": {},
   "outputs": [
    {
     "name": "stdout",
     "output_type": "stream",
     "text": [
      "1. CONFUSION MATRIX\n",
      " [[268  27]\n",
      " [ 26  10]]\n",
      "\n",
      "2. F1 SCORE\n",
      "F1-score on Test set:\t 0.273972602739726\n",
      "\n",
      "3. OTHER METRICS\n",
      "              precision    recall  f1-score   support\n",
      "\n",
      "           0       0.91      0.91      0.91       295\n",
      "           1       0.27      0.28      0.27        36\n",
      "\n",
      "    accuracy                           0.84       331\n",
      "   macro avg       0.59      0.59      0.59       331\n",
      "weighted avg       0.84      0.84      0.84       331\n",
      "\n",
      "\n",
      "4. TRAINING AND TEST ERROS\n",
      "Accuracy on Train set\t 1.0\n",
      "Error on Train set\t 0.0\n",
      "Accuracy on Test set\t 0.8398791540785498\n",
      "Error on Test set\t 0.16012084592145015\n"
     ]
    }
   ],
   "source": [
    "print('1. CONFUSION MATRIX\\n',metrics.confusion_matrix(y_test, predictions))\n",
    "\n",
    "\n",
    "print(\"\\n2. F1 SCORE\")\n",
    "print('F1-score on Test set:\\t',metrics.f1_score(y_test,predictions))\n",
    "\n",
    "print('\\n3. OTHER METRICS')\n",
    "print(metrics.classification_report(y_test, predictions))\n",
    "\n",
    "\n",
    "\n",
    "# accuracy score\n",
    "train_score =model.score(X_train,y_train)\n",
    "test_score = model.score(X_test,y_test)\n",
    "\n",
    "print(\"\\n4. TRAINING AND TEST ERROS\")\n",
    "print('Accuracy on Train set\\t',train_score)\n",
    "print('Error on Train set\\t',1-train_score)\n",
    "print('Accuracy on Test set\\t',test_score)\n",
    "print('Error on Test set\\t',1-test_score)\n",
    "\n",
    "    "
   ]
  },
  {
   "cell_type": "markdown",
   "id": "f6feee0d",
   "metadata": {},
   "source": [
    " "
   ]
  },
  {
   "cell_type": "markdown",
   "id": "2e28349b",
   "metadata": {},
   "source": [
    " "
   ]
  },
  {
   "cell_type": "markdown",
   "id": "3d0b4589",
   "metadata": {},
   "source": [
    "# KNN KNeighborsClassifier"
   ]
  },
  {
   "cell_type": "code",
   "execution_count": 18,
   "id": "397c1748",
   "metadata": {},
   "outputs": [],
   "source": [
    "from sklearn.neighbors import KNeighborsClassifier"
   ]
  },
  {
   "cell_type": "markdown",
   "id": "5ab83079",
   "metadata": {},
   "source": [
    "Here we took k=4. \n",
    "\n",
    "This model will use the four nearest neighbors to predict the value of a future data point. \n"
   ]
  },
  {
   "cell_type": "code",
   "execution_count": 19,
   "id": "c6a8a9b0",
   "metadata": {},
   "outputs": [],
   "source": [
    "model = KNeighborsClassifier(n_neighbors = 4)\n",
    "model.fit(X_train, y_train.ravel())\n",
    "predictions = model.predict(X_test)"
   ]
  },
  {
   "cell_type": "code",
   "execution_count": 20,
   "id": "beda25fa",
   "metadata": {},
   "outputs": [
    {
     "name": "stdout",
     "output_type": "stream",
     "text": [
      "[0 1]\n"
     ]
    }
   ],
   "source": [
    "print(np.unique(predictions))"
   ]
  },
  {
   "cell_type": "code",
   "execution_count": 21,
   "id": "7cc108cb",
   "metadata": {},
   "outputs": [
    {
     "name": "stdout",
     "output_type": "stream",
     "text": [
      "1. CONFUSION MATRIX\n",
      " [[290   5]\n",
      " [ 35   1]]\n",
      "\n",
      "2. F1 SCORE\n",
      "F1-score on Test set:\t 0.04761904761904762\n",
      "\n",
      "3. OTHER METRICS\n",
      "              precision    recall  f1-score   support\n",
      "\n",
      "           0       0.89      0.98      0.94       295\n",
      "           1       0.17      0.03      0.05        36\n",
      "\n",
      "    accuracy                           0.88       331\n",
      "   macro avg       0.53      0.51      0.49       331\n",
      "weighted avg       0.81      0.88      0.84       331\n",
      "\n",
      "\n",
      "4. TRAINING AND TEST ERROS\n",
      "Accuracy on Train set\t 0.9062736205593348\n",
      "Error on Train set\t 0.0937263794406652\n",
      "Accuracy on Test set\t 0.879154078549849\n",
      "Error on Test set\t 0.12084592145015105\n"
     ]
    }
   ],
   "source": [
    "print('1. CONFUSION MATRIX\\n',metrics.confusion_matrix(y_test, predictions))\n",
    "\n",
    "\n",
    "print(\"\\n2. F1 SCORE\")\n",
    "print('F1-score on Test set:\\t',metrics.f1_score(y_test,predictions))\n",
    "\n",
    "print('\\n3. OTHER METRICS')\n",
    "print(metrics.classification_report(y_test, predictions))\n",
    "\n",
    "\n",
    "\n",
    "# accuracy score\n",
    "train_score =model.score(X_train,y_train)\n",
    "test_score = model.score(X_test,y_test)\n",
    "\n",
    "print(\"\\n4. TRAINING AND TEST ERROS\")\n",
    "print('Accuracy on Train set\\t',train_score)\n",
    "print('Error on Train set\\t',1-train_score)\n",
    "print('Accuracy on Test set\\t',test_score)\n",
    "print('Error on Test set\\t',1-test_score)\n",
    "\n",
    "    "
   ]
  },
  {
   "cell_type": "markdown",
   "id": "b64279dd",
   "metadata": {},
   "source": [
    "# ANN Artifical Neural Networks"
   ]
  },
  {
   "cell_type": "code",
   "execution_count": 22,
   "id": "d9022089",
   "metadata": {},
   "outputs": [],
   "source": [
    "import tensorflow as tf\n",
    "from keras.models import Sequential\n",
    "from keras.layers import Dense\n",
    "import matplotlib.pyplot as plt"
   ]
  },
  {
   "cell_type": "code",
   "execution_count": 23,
   "id": "481e71a0",
   "metadata": {},
   "outputs": [],
   "source": [
    "# define keras model\n",
    "model=tf.keras.Sequential()\n",
    "\n",
    "model.add(tf.keras.layers.Dense(units=25,activation='relu'))\n",
    "\n",
    "model.add(tf.keras.layers.Dense(units=25,activation='relu'))\n",
    "\n",
    "model.add(tf.keras.layers.Dense(units=1,activation='sigmoid'))\n",
    "\n",
    "\n",
    "#compile keras model\n",
    "model.compile('adam','binary_crossentropy',metrics=['accuracy'])"
   ]
  },
  {
   "cell_type": "markdown",
   "id": "322d4901",
   "metadata": {},
   "source": [
    "## Training ANN Model"
   ]
  },
  {
   "cell_type": "code",
   "execution_count": 24,
   "id": "300d3fa2",
   "metadata": {},
   "outputs": [
    {
     "name": "stdout",
     "output_type": "stream",
     "text": [
      "Epoch 1/5\n",
      "42/42 [==============================] - 0s 614us/step - loss: 1.1907 - accuracy: 0.8254\n",
      "Epoch 2/5\n",
      "42/42 [==============================] - 0s 660us/step - loss: 0.5757 - accuracy: 0.8508\n",
      "Epoch 3/5\n",
      "42/42 [==============================] - 0s 792us/step - loss: 0.5023 - accuracy: 0.8578\n",
      "Epoch 4/5\n",
      "42/42 [==============================] - 0s 729us/step - loss: 0.4923 - accuracy: 0.8577\n",
      "Epoch 5/5\n",
      "42/42 [==============================] - 0s 804us/step - loss: 0.3739 - accuracy: 0.8661\n",
      "42/42 [==============================] - 0s 563us/step - loss: 0.3991 - accuracy: 0.8496\n"
     ]
    }
   ],
   "source": [
    "#fitting ANN to training set\n",
    "model.fit(X_train,y_train,epochs=5)\n",
    "\n",
    "\n",
    "#accuracy\n",
    "accuracy=model.evaluate(X_train,y_train)"
   ]
  },
  {
   "cell_type": "code",
   "execution_count": 25,
   "id": "cd71b7fc",
   "metadata": {},
   "outputs": [],
   "source": [
    "#predictions\n",
    "predictions = model.predict(X_test)\n",
    "predictions = (predictions > 0.5)"
   ]
  },
  {
   "cell_type": "code",
   "execution_count": 26,
   "id": "754b4792",
   "metadata": {},
   "outputs": [
    {
     "name": "stdout",
     "output_type": "stream",
     "text": [
      "1. CONFUSION MATRIX\n",
      " [[270  25]\n",
      " [ 28   8]]\n",
      "\n",
      "2. F1 SCORE\n",
      "F1-score on Test set:\t 0.2318840579710145\n",
      "\n",
      "3. OTHER METRICS\n",
      "              precision    recall  f1-score   support\n",
      "\n",
      "           0       0.91      0.92      0.91       295\n",
      "           1       0.24      0.22      0.23        36\n",
      "\n",
      "    accuracy                           0.84       331\n",
      "   macro avg       0.57      0.57      0.57       331\n",
      "weighted avg       0.83      0.84      0.84       331\n",
      "\n",
      "\n",
      " 4.ACCURACY\n",
      "[0.3990599513053894, 0.8495842814445496]\n"
     ]
    }
   ],
   "source": [
    "print('1. CONFUSION MATRIX\\n',metrics.confusion_matrix(y_test, predictions))\n",
    "\n",
    "print(\"\\n2. F1 SCORE\")\n",
    "print('F1-score on Test set:\\t',metrics.f1_score(y_test,predictions))\n",
    "\n",
    "print('\\n3. OTHER METRICS')\n",
    "print(metrics.classification_report(y_test, predictions))\n",
    "print(\"\\n 4.ACCURACY\")\n",
    "print(accuracy)"
   ]
  }
 ],
 "metadata": {
  "kernelspec": {
   "display_name": "Python 3",
   "language": "python",
   "name": "python3"
  },
  "language_info": {
   "codemirror_mode": {
    "name": "ipython",
    "version": 3
   },
   "file_extension": ".py",
   "mimetype": "text/x-python",
   "name": "python",
   "nbconvert_exporter": "python",
   "pygments_lexer": "ipython3",
   "version": "3.8.5"
  }
 },
 "nbformat": 4,
 "nbformat_minor": 5
}
