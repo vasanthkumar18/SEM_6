{
 "cells": [
  {
   "cell_type": "markdown",
   "id": "7a944e5d",
   "metadata": {},
   "source": [
    "# IMPORTING MODULES"
   ]
  },
  {
   "cell_type": "code",
   "execution_count": 1,
   "id": "d8479cb3",
   "metadata": {},
   "outputs": [],
   "source": [
    "import numpy as np\n",
    "\n",
    "# dataa split\n",
    "from sklearn.model_selection import train_test_split\n",
    "\n",
    "# model Evaluation\n",
    "from sklearn import metrics\n",
    "\n",
    "#navie bayesian and accuracy\n",
    "from sklearn.naive_bayes import GaussianNB\n",
    "from sklearn.metrics import accuracy_score\n",
    "\n",
    "#pandas\n",
    "import pandas as pd\n",
    "import matplotlib.pyplot as plt\n",
    "%matplotlib inline \n",
    "plt.style.use('seaborn')"
   ]
  },
  {
   "cell_type": "code",
   "execution_count": 2,
   "id": "df23cbc1",
   "metadata": {},
   "outputs": [],
   "source": [
    "import seaborn as sns\n",
    "import plotly.express as px\n",
    "\n",
    "# SMOTE\n",
    "from imblearn.over_sampling import SMOTE\n",
    "\n",
    "# scaling\n",
    "from sklearn.preprocessing import StandardScaler\n",
    "\n",
    "# tune\n",
    "from sklearn.model_selection import RandomizedSearchCV\n"
   ]
  },
  {
   "cell_type": "markdown",
   "id": "105f06ed",
   "metadata": {},
   "source": [
    "# READING THE DATASET"
   ]
  },
  {
   "cell_type": "code",
   "execution_count": 3,
   "id": "dbcbe851",
   "metadata": {},
   "outputs": [
    {
     "data": {
      "text/html": [
       "<div>\n",
       "<style scoped>\n",
       "    .dataframe tbody tr th:only-of-type {\n",
       "        vertical-align: middle;\n",
       "    }\n",
       "\n",
       "    .dataframe tbody tr th {\n",
       "        vertical-align: top;\n",
       "    }\n",
       "\n",
       "    .dataframe thead th {\n",
       "        text-align: right;\n",
       "    }\n",
       "</style>\n",
       "<table border=\"1\" class=\"dataframe\">\n",
       "  <thead>\n",
       "    <tr style=\"text-align: right;\">\n",
       "      <th></th>\n",
       "      <th>id</th>\n",
       "      <th>gender</th>\n",
       "      <th>age</th>\n",
       "      <th>hypertension</th>\n",
       "      <th>heart_disease</th>\n",
       "      <th>ever_married</th>\n",
       "      <th>work_type</th>\n",
       "      <th>Residence_type</th>\n",
       "      <th>avg_glucose_level</th>\n",
       "      <th>bmi</th>\n",
       "      <th>smoking_status</th>\n",
       "      <th>stroke</th>\n",
       "    </tr>\n",
       "  </thead>\n",
       "  <tbody>\n",
       "    <tr>\n",
       "      <th>0</th>\n",
       "      <td>9046</td>\n",
       "      <td>Male</td>\n",
       "      <td>67</td>\n",
       "      <td>0</td>\n",
       "      <td>1</td>\n",
       "      <td>Yes</td>\n",
       "      <td>Private</td>\n",
       "      <td>Urban</td>\n",
       "      <td>228.69</td>\n",
       "      <td>36.6</td>\n",
       "      <td>formerly smoked</td>\n",
       "      <td>1</td>\n",
       "    </tr>\n",
       "    <tr>\n",
       "      <th>1</th>\n",
       "      <td>31112</td>\n",
       "      <td>Male</td>\n",
       "      <td>80</td>\n",
       "      <td>0</td>\n",
       "      <td>1</td>\n",
       "      <td>Yes</td>\n",
       "      <td>Private</td>\n",
       "      <td>Rural</td>\n",
       "      <td>105.92</td>\n",
       "      <td>32.5</td>\n",
       "      <td>never smoked</td>\n",
       "      <td>1</td>\n",
       "    </tr>\n",
       "    <tr>\n",
       "      <th>2</th>\n",
       "      <td>60182</td>\n",
       "      <td>Female</td>\n",
       "      <td>49</td>\n",
       "      <td>0</td>\n",
       "      <td>0</td>\n",
       "      <td>Yes</td>\n",
       "      <td>Private</td>\n",
       "      <td>Urban</td>\n",
       "      <td>171.23</td>\n",
       "      <td>34.4</td>\n",
       "      <td>smokes</td>\n",
       "      <td>1</td>\n",
       "    </tr>\n",
       "    <tr>\n",
       "      <th>3</th>\n",
       "      <td>1665</td>\n",
       "      <td>Female</td>\n",
       "      <td>79</td>\n",
       "      <td>1</td>\n",
       "      <td>0</td>\n",
       "      <td>Yes</td>\n",
       "      <td>Self-employed</td>\n",
       "      <td>Rural</td>\n",
       "      <td>174.12</td>\n",
       "      <td>24.0</td>\n",
       "      <td>never smoked</td>\n",
       "      <td>1</td>\n",
       "    </tr>\n",
       "    <tr>\n",
       "      <th>4</th>\n",
       "      <td>56669</td>\n",
       "      <td>Male</td>\n",
       "      <td>81</td>\n",
       "      <td>0</td>\n",
       "      <td>0</td>\n",
       "      <td>Yes</td>\n",
       "      <td>Private</td>\n",
       "      <td>Urban</td>\n",
       "      <td>186.21</td>\n",
       "      <td>29.0</td>\n",
       "      <td>formerly smoked</td>\n",
       "      <td>1</td>\n",
       "    </tr>\n",
       "    <tr>\n",
       "      <th>...</th>\n",
       "      <td>...</td>\n",
       "      <td>...</td>\n",
       "      <td>...</td>\n",
       "      <td>...</td>\n",
       "      <td>...</td>\n",
       "      <td>...</td>\n",
       "      <td>...</td>\n",
       "      <td>...</td>\n",
       "      <td>...</td>\n",
       "      <td>...</td>\n",
       "      <td>...</td>\n",
       "      <td>...</td>\n",
       "    </tr>\n",
       "    <tr>\n",
       "      <th>2538</th>\n",
       "      <td>5006</td>\n",
       "      <td>Female</td>\n",
       "      <td>46</td>\n",
       "      <td>0</td>\n",
       "      <td>0</td>\n",
       "      <td>Yes</td>\n",
       "      <td>Self-employed</td>\n",
       "      <td>Rural</td>\n",
       "      <td>85.84</td>\n",
       "      <td>21.2</td>\n",
       "      <td>never smoked</td>\n",
       "      <td>0</td>\n",
       "    </tr>\n",
       "    <tr>\n",
       "      <th>2539</th>\n",
       "      <td>11250</td>\n",
       "      <td>Male</td>\n",
       "      <td>78</td>\n",
       "      <td>0</td>\n",
       "      <td>0</td>\n",
       "      <td>Yes</td>\n",
       "      <td>Self-employed</td>\n",
       "      <td>Rural</td>\n",
       "      <td>93.85</td>\n",
       "      <td>22.7</td>\n",
       "      <td>formerly smoked</td>\n",
       "      <td>0</td>\n",
       "    </tr>\n",
       "    <tr>\n",
       "      <th>2540</th>\n",
       "      <td>41858</td>\n",
       "      <td>Female</td>\n",
       "      <td>63</td>\n",
       "      <td>0</td>\n",
       "      <td>1</td>\n",
       "      <td>Yes</td>\n",
       "      <td>Private</td>\n",
       "      <td>Rural</td>\n",
       "      <td>86.21</td>\n",
       "      <td>39.1</td>\n",
       "      <td>never smoked</td>\n",
       "      <td>0</td>\n",
       "    </tr>\n",
       "    <tr>\n",
       "      <th>2541</th>\n",
       "      <td>34965</td>\n",
       "      <td>Female</td>\n",
       "      <td>18</td>\n",
       "      <td>0</td>\n",
       "      <td>0</td>\n",
       "      <td>No</td>\n",
       "      <td>Private</td>\n",
       "      <td>Urban</td>\n",
       "      <td>95.87</td>\n",
       "      <td>23.0</td>\n",
       "      <td>never smoked</td>\n",
       "      <td>0</td>\n",
       "    </tr>\n",
       "    <tr>\n",
       "      <th>2542</th>\n",
       "      <td>65748</td>\n",
       "      <td>Female</td>\n",
       "      <td>46</td>\n",
       "      <td>0</td>\n",
       "      <td>0</td>\n",
       "      <td>Yes</td>\n",
       "      <td>Private</td>\n",
       "      <td>Urban</td>\n",
       "      <td>180.45</td>\n",
       "      <td>22.5</td>\n",
       "      <td>never smoked</td>\n",
       "      <td>0</td>\n",
       "    </tr>\n",
       "  </tbody>\n",
       "</table>\n",
       "<p>2543 rows × 12 columns</p>\n",
       "</div>"
      ],
      "text/plain": [
       "         id  gender  age  hypertension  heart_disease ever_married  \\\n",
       "0      9046    Male   67             0              1          Yes   \n",
       "1     31112    Male   80             0              1          Yes   \n",
       "2     60182  Female   49             0              0          Yes   \n",
       "3      1665  Female   79             1              0          Yes   \n",
       "4     56669    Male   81             0              0          Yes   \n",
       "...     ...     ...  ...           ...            ...          ...   \n",
       "2538   5006  Female   46             0              0          Yes   \n",
       "2539  11250    Male   78             0              0          Yes   \n",
       "2540  41858  Female   63             0              1          Yes   \n",
       "2541  34965  Female   18             0              0           No   \n",
       "2542  65748  Female   46             0              0          Yes   \n",
       "\n",
       "          work_type Residence_type  avg_glucose_level   bmi   smoking_status  \\\n",
       "0           Private          Urban             228.69  36.6  formerly smoked   \n",
       "1           Private          Rural             105.92  32.5     never smoked   \n",
       "2           Private          Urban             171.23  34.4           smokes   \n",
       "3     Self-employed          Rural             174.12  24.0     never smoked   \n",
       "4           Private          Urban             186.21  29.0  formerly smoked   \n",
       "...             ...            ...                ...   ...              ...   \n",
       "2538  Self-employed          Rural              85.84  21.2     never smoked   \n",
       "2539  Self-employed          Rural              93.85  22.7  formerly smoked   \n",
       "2540        Private          Rural              86.21  39.1     never smoked   \n",
       "2541        Private          Urban              95.87  23.0     never smoked   \n",
       "2542        Private          Urban             180.45  22.5     never smoked   \n",
       "\n",
       "      stroke  \n",
       "0          1  \n",
       "1          1  \n",
       "2          1  \n",
       "3          1  \n",
       "4          1  \n",
       "...      ...  \n",
       "2538       0  \n",
       "2539       0  \n",
       "2540       0  \n",
       "2541       0  \n",
       "2542       0  \n",
       "\n",
       "[2543 rows x 12 columns]"
      ]
     },
     "execution_count": 3,
     "metadata": {},
     "output_type": "execute_result"
    }
   ],
   "source": [
    "data=pd.read_csv('D3.csv')\n",
    "data"
   ]
  },
  {
   "cell_type": "markdown",
   "id": "496f6473",
   "metadata": {},
   "source": [
    "# DATA ENCODING (PREPARATION)"
   ]
  },
  {
   "cell_type": "code",
   "execution_count": 4,
   "id": "367d42d0",
   "metadata": {},
   "outputs": [],
   "source": [
    "# convert string to numeric using map\n",
    "\n",
    "# gender\n",
    "data['gender'] = data['gender'].map({\n",
    "'Male': int(0),\n",
    "'Female':int(1),\n",
    "'Other':int(2)})\n",
    "\n",
    "# ever_married\n",
    "data['ever_married'] =data['ever_married'].map({\n",
    "'Yes':int(1), \n",
    "'No':int(0)})\n",
    "\n",
    "# work_type\n",
    "data['work_type'] = data['work_type'].map({\n",
    "'Private':int(3), \n",
    "'Self-employed':int(4),\n",
    "'Govt_job':int(2), \n",
    "'children':int(1), \n",
    "'Never_worked':int(0)})\n",
    "\n",
    "# Residence_type\n",
    "data['Residence_type'] = data['Residence_type'].map({\n",
    "'Urban':int(2), \n",
    "'Rural':int(1)})\n",
    "\n",
    "# smoking_status\n",
    "data['smoking_status'] = data['smoking_status'].map({\n",
    "'formerly smoked':int(1),\n",
    "'never smoked':int(2), \n",
    "'smokes':int(3),\n",
    "'Unknown':int(0)})"
   ]
  },
  {
   "cell_type": "markdown",
   "id": "19b019e5",
   "metadata": {},
   "source": [
    "### attributes used in the classification"
   ]
  },
  {
   "cell_type": "code",
   "execution_count": 5,
   "id": "2392536e",
   "metadata": {},
   "outputs": [],
   "source": [
    "x=data[['gender','age','hypertension','heart_disease','ever_married','work_type','Residence_type','avg_glucose_level','bmi','smoking_status']]\n",
    "y=data[['stroke']]\n",
    "x=x.values\n",
    "y=y.values"
   ]
  },
  {
   "cell_type": "markdown",
   "id": "a241d5d7",
   "metadata": {},
   "source": [
    " "
   ]
  },
  {
   "cell_type": "markdown",
   "id": "5562c7f4",
   "metadata": {},
   "source": [
    " "
   ]
  },
  {
   "cell_type": "markdown",
   "id": "c28ab0db",
   "metadata": {},
   "source": [
    " "
   ]
  },
  {
   "cell_type": "markdown",
   "id": "4646ad8d",
   "metadata": {},
   "source": [
    "# SPLIT DATASET "
   ]
  },
  {
   "cell_type": "code",
   "execution_count": 6,
   "id": "594612ba",
   "metadata": {},
   "outputs": [],
   "source": [
    "from sklearn.model_selection import train_test_split\n",
    "from sklearn.datasets import load_iris"
   ]
  },
  {
   "cell_type": "code",
   "execution_count": 7,
   "id": "b7f71006",
   "metadata": {},
   "outputs": [],
   "source": [
    "X_train, X_test, y_train, y_test = train_test_split(x, y, test_size = 0.20,random_state=42)"
   ]
  },
  {
   "cell_type": "code",
   "execution_count": 8,
   "id": "62e8079c",
   "metadata": {},
   "outputs": [
    {
     "name": "stdout",
     "output_type": "stream",
     "text": [
      "(2034, 10)\n",
      "(509, 10)\n"
     ]
    }
   ],
   "source": [
    "print(X_train.shape)\n",
    "print(X_test.shape)"
   ]
  },
  {
   "cell_type": "code",
   "execution_count": 9,
   "id": "8c0e5ce1",
   "metadata": {},
   "outputs": [
    {
     "name": "stdout",
     "output_type": "stream",
     "text": [
      "(2034,)\n",
      "(509,)\n"
     ]
    }
   ],
   "source": [
    "y_train=y_train.flatten()\n",
    "y_test=y_test.flatten()\n",
    "print(y_train.shape)\n",
    "print(y_test.shape)"
   ]
  },
  {
   "cell_type": "markdown",
   "id": "c6c88137",
   "metadata": {},
   "source": [
    " "
   ]
  },
  {
   "cell_type": "markdown",
   "id": "0bad7b4e",
   "metadata": {},
   "source": [
    " "
   ]
  },
  {
   "cell_type": "markdown",
   "id": "c1a442dc",
   "metadata": {},
   "source": [
    " "
   ]
  },
  {
   "cell_type": "markdown",
   "id": "47a18365",
   "metadata": {},
   "source": [
    " "
   ]
  },
  {
   "cell_type": "markdown",
   "id": "40231d80",
   "metadata": {},
   "source": [
    "# NAVIE'S BAYER"
   ]
  },
  {
   "cell_type": "code",
   "execution_count": 10,
   "id": "cdb6c1f9",
   "metadata": {},
   "outputs": [],
   "source": [
    "from sklearn.naive_bayes import GaussianNB"
   ]
  },
  {
   "cell_type": "code",
   "execution_count": 11,
   "id": "c632d09a",
   "metadata": {},
   "outputs": [],
   "source": [
    "model = GaussianNB()\n",
    "model.fit(X_train,y_train)\n",
    "predictions=model.predict(X_test)"
   ]
  },
  {
   "cell_type": "code",
   "execution_count": 12,
   "id": "ef2f3b86",
   "metadata": {},
   "outputs": [
    {
     "name": "stdout",
     "output_type": "stream",
     "text": [
      "[0 1]\n"
     ]
    }
   ],
   "source": [
    "print(np.unique(predictions))"
   ]
  },
  {
   "cell_type": "code",
   "execution_count": 13,
   "id": "45630568",
   "metadata": {},
   "outputs": [
    {
     "name": "stdout",
     "output_type": "stream",
     "text": [
      "1. CONFUSION MATRIX\n",
      " [[427  49]\n",
      " [ 23  10]]\n",
      "\n",
      "2. F1 SCORE\n",
      "F1-score on Test set:\t 0.21739130434782608\n",
      "\n",
      "3. OTHER METRICS\n",
      "              precision    recall  f1-score   support\n",
      "\n",
      "           0       0.95      0.90      0.92       476\n",
      "           1       0.17      0.30      0.22        33\n",
      "\n",
      "    accuracy                           0.86       509\n",
      "   macro avg       0.56      0.60      0.57       509\n",
      "weighted avg       0.90      0.86      0.88       509\n",
      "\n",
      "\n",
      "4. TRAINING AND TEST ERROS\n",
      "Accuracy on Train set\t 0.8500491642084562\n",
      "Error on Train set\t 0.14995083579154378\n",
      "Accuracy on Test set\t 0.8585461689587426\n",
      "Error on Test set\t 0.14145383104125742\n"
     ]
    }
   ],
   "source": [
    "print('1. CONFUSION MATRIX\\n',metrics.confusion_matrix(y_test, predictions))\n",
    "\n",
    "\n",
    "print(\"\\n2. F1 SCORE\")\n",
    "print('F1-score on Test set:\\t',metrics.f1_score(y_test,predictions))\n",
    "\n",
    "print('\\n3. OTHER METRICS')\n",
    "print(metrics.classification_report(y_test, predictions))\n",
    "\n",
    "\n",
    "\n",
    "# accuracy score\n",
    "train_score =model.score(X_train,y_train)\n",
    "test_score = model.score(X_test,y_test)\n",
    "\n",
    "print(\"\\n4. TRAINING AND TEST ERROS\")\n",
    "print('Accuracy on Train set\\t',train_score)\n",
    "print('Error on Train set\\t',1-train_score)\n",
    "print('Accuracy on Test set\\t',test_score)\n",
    "print('Error on Test set\\t',1-test_score)\n",
    "\n",
    "    "
   ]
  },
  {
   "cell_type": "markdown",
   "id": "e7cd1826",
   "metadata": {},
   "source": [
    " "
   ]
  },
  {
   "cell_type": "markdown",
   "id": "d68d7cbc",
   "metadata": {},
   "source": [
    " "
   ]
  },
  {
   "cell_type": "markdown",
   "id": "05d62224",
   "metadata": {},
   "source": [
    " "
   ]
  },
  {
   "cell_type": "markdown",
   "id": "f706de05",
   "metadata": {},
   "source": [
    "# DECISION TREE"
   ]
  },
  {
   "cell_type": "code",
   "execution_count": 14,
   "id": "55168ee3",
   "metadata": {},
   "outputs": [],
   "source": [
    "from sklearn.tree import DecisionTreeClassifier"
   ]
  },
  {
   "cell_type": "code",
   "execution_count": 15,
   "id": "30fe7408",
   "metadata": {},
   "outputs": [],
   "source": [
    "model= DecisionTreeClassifier(random_state=42)\n",
    "model.fit(X_train, y_train)\n",
    "predictions = model.predict(X_test)"
   ]
  },
  {
   "cell_type": "code",
   "execution_count": 16,
   "id": "ac2cf06e",
   "metadata": {},
   "outputs": [
    {
     "name": "stdout",
     "output_type": "stream",
     "text": [
      "[0 1]\n"
     ]
    }
   ],
   "source": [
    "print(np.unique(predictions))"
   ]
  },
  {
   "cell_type": "code",
   "execution_count": 17,
   "id": "10abba9e",
   "metadata": {},
   "outputs": [
    {
     "name": "stdout",
     "output_type": "stream",
     "text": [
      "1. CONFUSION MATRIX\n",
      " [[447  29]\n",
      " [ 29   4]]\n",
      "\n",
      "2. F1 SCORE\n",
      "F1-score on Test set:\t 0.12121212121212122\n",
      "\n",
      "3. OTHER METRICS\n",
      "              precision    recall  f1-score   support\n",
      "\n",
      "           0       0.94      0.94      0.94       476\n",
      "           1       0.12      0.12      0.12        33\n",
      "\n",
      "    accuracy                           0.89       509\n",
      "   macro avg       0.53      0.53      0.53       509\n",
      "weighted avg       0.89      0.89      0.89       509\n",
      "\n",
      "\n",
      "4. TRAINING AND TEST ERROS\n",
      "Accuracy on Train set\t 1.0\n",
      "Error on Train set\t 0.0\n",
      "Accuracy on Test set\t 0.8860510805500982\n",
      "Error on Test set\t 0.11394891944990182\n"
     ]
    }
   ],
   "source": [
    "print('1. CONFUSION MATRIX\\n',metrics.confusion_matrix(y_test, predictions))\n",
    "\n",
    "\n",
    "print(\"\\n2. F1 SCORE\")\n",
    "print('F1-score on Test set:\\t',metrics.f1_score(y_test,predictions))\n",
    "\n",
    "print('\\n3. OTHER METRICS')\n",
    "print(metrics.classification_report(y_test, predictions))\n",
    "\n",
    "\n",
    "\n",
    "# accuracy score\n",
    "train_score =model.score(X_train,y_train)\n",
    "test_score = model.score(X_test,y_test)\n",
    "\n",
    "print(\"\\n4. TRAINING AND TEST ERROS\")\n",
    "print('Accuracy on Train set\\t',train_score)\n",
    "print('Error on Train set\\t',1-train_score)\n",
    "print('Accuracy on Test set\\t',test_score)\n",
    "print('Error on Test set\\t',1-test_score)\n",
    "\n",
    "    "
   ]
  },
  {
   "cell_type": "markdown",
   "id": "f6feee0d",
   "metadata": {},
   "source": [
    " "
   ]
  },
  {
   "cell_type": "markdown",
   "id": "2e28349b",
   "metadata": {},
   "source": [
    " "
   ]
  },
  {
   "cell_type": "markdown",
   "id": "3d0b4589",
   "metadata": {},
   "source": [
    "# KNN KNeighborsClassifier"
   ]
  },
  {
   "cell_type": "code",
   "execution_count": 18,
   "id": "397c1748",
   "metadata": {},
   "outputs": [],
   "source": [
    "from sklearn.neighbors import KNeighborsClassifier"
   ]
  },
  {
   "cell_type": "markdown",
   "id": "5ab83079",
   "metadata": {},
   "source": [
    "Here we took k=4. \n",
    "\n",
    "This model will use the four nearest neighbors to predict the value of a future data point. \n"
   ]
  },
  {
   "cell_type": "code",
   "execution_count": 19,
   "id": "c6a8a9b0",
   "metadata": {},
   "outputs": [],
   "source": [
    "model = KNeighborsClassifier(n_neighbors = 4)\n",
    "model.fit(X_train, y_train.ravel())\n",
    "predictions = model.predict(X_test)"
   ]
  },
  {
   "cell_type": "code",
   "execution_count": 20,
   "id": "beda25fa",
   "metadata": {},
   "outputs": [
    {
     "name": "stdout",
     "output_type": "stream",
     "text": [
      "[0 1]\n"
     ]
    }
   ],
   "source": [
    "print(np.unique(predictions))"
   ]
  },
  {
   "cell_type": "code",
   "execution_count": 21,
   "id": "7cc108cb",
   "metadata": {},
   "outputs": [
    {
     "name": "stdout",
     "output_type": "stream",
     "text": [
      "1. CONFUSION MATRIX\n",
      " [[473   3]\n",
      " [ 33   0]]\n",
      "\n",
      "2. F1 SCORE\n",
      "F1-score on Test set:\t 0.0\n",
      "\n",
      "3. OTHER METRICS\n",
      "              precision    recall  f1-score   support\n",
      "\n",
      "           0       0.93      0.99      0.96       476\n",
      "           1       0.00      0.00      0.00        33\n",
      "\n",
      "    accuracy                           0.93       509\n",
      "   macro avg       0.47      0.50      0.48       509\n",
      "weighted avg       0.87      0.93      0.90       509\n",
      "\n",
      "\n",
      "4. TRAINING AND TEST ERROS\n",
      "Accuracy on Train set\t 0.9321533923303835\n",
      "Error on Train set\t 0.06784660766961648\n",
      "Accuracy on Test set\t 0.9292730844793713\n",
      "Error on Test set\t 0.07072691552062871\n"
     ]
    }
   ],
   "source": [
    "print('1. CONFUSION MATRIX\\n',metrics.confusion_matrix(y_test, predictions))\n",
    "\n",
    "\n",
    "print(\"\\n2. F1 SCORE\")\n",
    "print('F1-score on Test set:\\t',metrics.f1_score(y_test,predictions))\n",
    "\n",
    "print('\\n3. OTHER METRICS')\n",
    "print(metrics.classification_report(y_test, predictions))\n",
    "\n",
    "\n",
    "\n",
    "# accuracy score\n",
    "train_score =model.score(X_train,y_train)\n",
    "test_score = model.score(X_test,y_test)\n",
    "\n",
    "print(\"\\n4. TRAINING AND TEST ERROS\")\n",
    "print('Accuracy on Train set\\t',train_score)\n",
    "print('Error on Train set\\t',1-train_score)\n",
    "print('Accuracy on Test set\\t',test_score)\n",
    "print('Error on Test set\\t',1-test_score)\n",
    "\n",
    "    "
   ]
  },
  {
   "cell_type": "markdown",
   "id": "b64279dd",
   "metadata": {},
   "source": [
    "# ANN Artifical Neural Networks"
   ]
  },
  {
   "cell_type": "code",
   "execution_count": 22,
   "id": "d9022089",
   "metadata": {},
   "outputs": [],
   "source": [
    "import tensorflow as tf\n",
    "from keras.models import Sequential\n",
    "from keras.layers import Dense\n",
    "import matplotlib.pyplot as plt"
   ]
  },
  {
   "cell_type": "code",
   "execution_count": 23,
   "id": "481e71a0",
   "metadata": {},
   "outputs": [],
   "source": [
    "# define keras model\n",
    "model=tf.keras.Sequential()\n",
    "\n",
    "model.add(tf.keras.layers.Dense(units=25,activation='relu'))\n",
    "\n",
    "model.add(tf.keras.layers.Dense(units=25,activation='relu'))\n",
    "\n",
    "model.add(tf.keras.layers.Dense(units=1,activation='sigmoid'))\n",
    "\n",
    "\n",
    "#compile keras model\n",
    "model.compile('adam','binary_crossentropy',metrics=['accuracy'])"
   ]
  },
  {
   "cell_type": "markdown",
   "id": "322d4901",
   "metadata": {},
   "source": [
    "## Training ANN Model"
   ]
  },
  {
   "cell_type": "code",
   "execution_count": 24,
   "id": "300d3fa2",
   "metadata": {},
   "outputs": [
    {
     "name": "stdout",
     "output_type": "stream",
     "text": [
      "Epoch 1/5\n",
      "64/64 [==============================] - 0s 612us/step - loss: 4.2688 - accuracy: 0.5320\n",
      "Epoch 2/5\n",
      "64/64 [==============================] - 0s 717us/step - loss: 0.4407 - accuracy: 0.9286\n",
      "Epoch 3/5\n",
      "64/64 [==============================] - 0s 730us/step - loss: 0.2819 - accuracy: 0.9264\n",
      "Epoch 4/5\n",
      "64/64 [==============================] - 0s 685us/step - loss: 0.2545 - accuracy: 0.9315\n",
      "Epoch 5/5\n",
      "64/64 [==============================] - 0s 681us/step - loss: 0.2528 - accuracy: 0.9288\n",
      "64/64 [==============================] - 0s 429us/step - loss: 0.2446 - accuracy: 0.9267\n"
     ]
    }
   ],
   "source": [
    "#fitting ANN to training set\n",
    "model.fit(X_train,y_train,epochs=5)\n",
    "\n",
    "\n",
    "#accuracy\n",
    "accuracy=model.evaluate(X_train,y_train)"
   ]
  },
  {
   "cell_type": "code",
   "execution_count": 25,
   "id": "cd71b7fc",
   "metadata": {},
   "outputs": [],
   "source": [
    "#predictions\n",
    "predictions = model.predict(X_test)\n",
    "predictions = (predictions > 0.5)"
   ]
  },
  {
   "cell_type": "code",
   "execution_count": 26,
   "id": "754b4792",
   "metadata": {},
   "outputs": [
    {
     "name": "stdout",
     "output_type": "stream",
     "text": [
      "1. CONFUSION MATRIX\n",
      " [[476   0]\n",
      " [ 33   0]]\n",
      "\n",
      "2. F1 SCORE\n",
      "F1-score on Test set:\t 0.0\n",
      "\n",
      "3. OTHER METRICS\n",
      "              precision    recall  f1-score   support\n",
      "\n",
      "           0       0.94      1.00      0.97       476\n",
      "           1       0.00      0.00      0.00        33\n",
      "\n",
      "    accuracy                           0.94       509\n",
      "   macro avg       0.47      0.50      0.48       509\n",
      "weighted avg       0.87      0.94      0.90       509\n",
      "\n",
      "\n",
      " 4.ACCURACY\n",
      "[0.24461983144283295, 0.9267453551292419]\n"
     ]
    },
    {
     "name": "stderr",
     "output_type": "stream",
     "text": [
      "/home/pandu/my_project_dir/my_project_env/lib/python3.8/site-packages/sklearn/metrics/_classification.py:1248: UndefinedMetricWarning: Precision and F-score are ill-defined and being set to 0.0 in labels with no predicted samples. Use `zero_division` parameter to control this behavior.\n",
      "  _warn_prf(average, modifier, msg_start, len(result))\n",
      "/home/pandu/my_project_dir/my_project_env/lib/python3.8/site-packages/sklearn/metrics/_classification.py:1248: UndefinedMetricWarning: Precision and F-score are ill-defined and being set to 0.0 in labels with no predicted samples. Use `zero_division` parameter to control this behavior.\n",
      "  _warn_prf(average, modifier, msg_start, len(result))\n",
      "/home/pandu/my_project_dir/my_project_env/lib/python3.8/site-packages/sklearn/metrics/_classification.py:1248: UndefinedMetricWarning: Precision and F-score are ill-defined and being set to 0.0 in labels with no predicted samples. Use `zero_division` parameter to control this behavior.\n",
      "  _warn_prf(average, modifier, msg_start, len(result))\n"
     ]
    }
   ],
   "source": [
    "print('1. CONFUSION MATRIX\\n',metrics.confusion_matrix(y_test, predictions))\n",
    "\n",
    "print(\"\\n2. F1 SCORE\")\n",
    "print('F1-score on Test set:\\t',metrics.f1_score(y_test,predictions))\n",
    "\n",
    "print('\\n3. OTHER METRICS')\n",
    "print(metrics.classification_report(y_test, predictions))\n",
    "print(\"\\n 4.ACCURACY\")\n",
    "print(accuracy)"
   ]
  }
 ],
 "metadata": {
  "kernelspec": {
   "display_name": "Python 3",
   "language": "python",
   "name": "python3"
  },
  "language_info": {
   "codemirror_mode": {
    "name": "ipython",
    "version": 3
   },
   "file_extension": ".py",
   "mimetype": "text/x-python",
   "name": "python",
   "nbconvert_exporter": "python",
   "pygments_lexer": "ipython3",
   "version": "3.8.5"
  }
 },
 "nbformat": 4,
 "nbformat_minor": 5
}
