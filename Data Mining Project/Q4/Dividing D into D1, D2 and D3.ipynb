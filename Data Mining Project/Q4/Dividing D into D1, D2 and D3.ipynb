{
 "cells": [
  {
   "cell_type": "code",
   "execution_count": 1,
   "id": "86e3b03b",
   "metadata": {},
   "outputs": [],
   "source": [
    "import csv\n",
    "d1=open('D1.csv','w')\n",
    "d2=open('D2.csv','w')\n",
    "d3=open('D3.csv','w')     "
   ]
  },
  {
   "cell_type": "code",
   "execution_count": 2,
   "id": "1763d191",
   "metadata": {},
   "outputs": [
    {
     "name": "stdout",
     "output_type": "stream",
     "text": [
      "total number of rows:\t 3426\n",
      "for D1:\t 856\n",
      "for D3:\t 1713\n",
      "for D3:\t 2569\n"
     ]
    }
   ],
   "source": [
    "total=0\n",
    "with open('dataset.csv','r') as inp:\n",
    "    for row in csv.reader(inp):\n",
    "        total+=1\n",
    "total-=1\n",
    "j=0\n",
    "a=0\n",
    "a1=int(total/4)\n",
    "b1=int(total/2)\n",
    "c1=int(3*(total/4))\n",
    "print('total number of rows:\\t',total)\n",
    "print('for D1:\\t',int(a1))\n",
    "print('for D3:\\t',int(b1))\n",
    "print('for D3:\\t',int(c1))"
   ]
  },
  {
   "cell_type": "code",
   "execution_count": 3,
   "id": "f9cb52e4",
   "metadata": {},
   "outputs": [],
   "source": [
    "c=0\n",
    "with open('dataset.csv','r') as inp:\n",
    "    writer=csv.writer(d1)\n",
    "    for row in csv.reader(inp):\n",
    "        if(c==a1):\n",
    "            break\n",
    "        writer.writerow(row)\n",
    "        c+=1"
   ]
  },
  {
   "cell_type": "code",
   "execution_count": 4,
   "id": "4efffbc1",
   "metadata": {},
   "outputs": [],
   "source": [
    "c=0\n",
    "with open('dataset.csv','r') as inp:\n",
    "    writer=csv.writer(d2)\n",
    "    for row in csv.reader(inp):\n",
    "        if(c==b1):\n",
    "            break\n",
    "        writer.writerow(row)\n",
    "        c+=1\n"
   ]
  },
  {
   "cell_type": "code",
   "execution_count": 5,
   "id": "75fc7cab",
   "metadata": {},
   "outputs": [],
   "source": [
    "c=0\n",
    "with open('dataset.csv','r') as inp:\n",
    "    writer=csv.writer(d3)\n",
    "    for row in csv.reader(inp):\n",
    "        if(c==c1):\n",
    "            break\n",
    "        writer.writerow(row)\n",
    "        c+=1"
   ]
  },
  {
   "cell_type": "code",
   "execution_count": null,
   "id": "ee4858d5",
   "metadata": {},
   "outputs": [],
   "source": []
  }
 ],
 "metadata": {
  "kernelspec": {
   "display_name": "Python 3",
   "language": "python",
   "name": "python3"
  },
  "language_info": {
   "codemirror_mode": {
    "name": "ipython",
    "version": 3
   },
   "file_extension": ".py",
   "mimetype": "text/x-python",
   "name": "python",
   "nbconvert_exporter": "python",
   "pygments_lexer": "ipython3",
   "version": "3.8.5"
  }
 },
 "nbformat": 4,
 "nbformat_minor": 5
}
