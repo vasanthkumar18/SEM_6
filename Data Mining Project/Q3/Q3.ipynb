{
 "cells": [
  {
   "cell_type": "markdown",
   "id": "e319bbb4",
   "metadata": {},
   "source": [
    "# IMPORTING MODULES"
   ]
  },
  {
   "cell_type": "code",
   "execution_count": 1,
   "id": "e0414cb8",
   "metadata": {},
   "outputs": [],
   "source": [
    "import numpy as np\n",
    "\n",
    "# dataa split\n",
    "from sklearn.model_selection import train_test_split\n",
    "\n",
    "# model Evaluation\n",
    "from sklearn import metrics\n",
    "\n",
    "#navie bayesian and accuracy\n",
    "from sklearn.naive_bayes import GaussianNB\n",
    "from sklearn.metrics import accuracy_score\n",
    "\n",
    "#pandas\n",
    "import pandas as pd\n",
    "import matplotlib.pyplot as plt\n",
    "%matplotlib inline \n",
    "plt.style.use('seaborn')"
   ]
  },
  {
   "cell_type": "code",
   "execution_count": 2,
   "id": "db6023f2",
   "metadata": {},
   "outputs": [],
   "source": [
    "import seaborn as sns\n",
    "import plotly.express as px\n",
    "\n",
    "# SMOTE\n",
    "from imblearn.over_sampling import SMOTE\n",
    "\n",
    "# scaling\n",
    "from sklearn.preprocessing import StandardScaler\n",
    "\n",
    "# tune\n",
    "from sklearn.model_selection import RandomizedSearchCV\n"
   ]
  },
  {
   "cell_type": "markdown",
   "id": "7352369e",
   "metadata": {},
   "source": []
  },
  {
   "cell_type": "markdown",
   "id": "bb099b88",
   "metadata": {},
   "source": [
    "# READING THE DATASET"
   ]
  },
  {
   "cell_type": "code",
   "execution_count": 3,
   "id": "22773e04",
   "metadata": {},
   "outputs": [
    {
     "data": {
      "text/html": [
       "<div>\n",
       "<style scoped>\n",
       "    .dataframe tbody tr th:only-of-type {\n",
       "        vertical-align: middle;\n",
       "    }\n",
       "\n",
       "    .dataframe tbody tr th {\n",
       "        vertical-align: top;\n",
       "    }\n",
       "\n",
       "    .dataframe thead th {\n",
       "        text-align: right;\n",
       "    }\n",
       "</style>\n",
       "<table border=\"1\" class=\"dataframe\">\n",
       "  <thead>\n",
       "    <tr style=\"text-align: right;\">\n",
       "      <th></th>\n",
       "      <th>id</th>\n",
       "      <th>gender</th>\n",
       "      <th>age</th>\n",
       "      <th>hypertension</th>\n",
       "      <th>heart_disease</th>\n",
       "      <th>ever_married</th>\n",
       "      <th>work_type</th>\n",
       "      <th>Residence_type</th>\n",
       "      <th>avg_glucose_level</th>\n",
       "      <th>bmi</th>\n",
       "      <th>smoking_status</th>\n",
       "      <th>stroke</th>\n",
       "    </tr>\n",
       "  </thead>\n",
       "  <tbody>\n",
       "    <tr>\n",
       "      <th>0</th>\n",
       "      <td>9046</td>\n",
       "      <td>Male</td>\n",
       "      <td>67</td>\n",
       "      <td>0</td>\n",
       "      <td>1</td>\n",
       "      <td>Yes</td>\n",
       "      <td>Private</td>\n",
       "      <td>Urban</td>\n",
       "      <td>228.69</td>\n",
       "      <td>36.6</td>\n",
       "      <td>formerly smoked</td>\n",
       "      <td>1</td>\n",
       "    </tr>\n",
       "    <tr>\n",
       "      <th>1</th>\n",
       "      <td>31112</td>\n",
       "      <td>Male</td>\n",
       "      <td>80</td>\n",
       "      <td>0</td>\n",
       "      <td>1</td>\n",
       "      <td>Yes</td>\n",
       "      <td>Private</td>\n",
       "      <td>Rural</td>\n",
       "      <td>105.92</td>\n",
       "      <td>32.5</td>\n",
       "      <td>never smoked</td>\n",
       "      <td>1</td>\n",
       "    </tr>\n",
       "    <tr>\n",
       "      <th>2</th>\n",
       "      <td>60182</td>\n",
       "      <td>Female</td>\n",
       "      <td>49</td>\n",
       "      <td>0</td>\n",
       "      <td>0</td>\n",
       "      <td>Yes</td>\n",
       "      <td>Private</td>\n",
       "      <td>Urban</td>\n",
       "      <td>171.23</td>\n",
       "      <td>34.4</td>\n",
       "      <td>smokes</td>\n",
       "      <td>1</td>\n",
       "    </tr>\n",
       "    <tr>\n",
       "      <th>3</th>\n",
       "      <td>1665</td>\n",
       "      <td>Female</td>\n",
       "      <td>79</td>\n",
       "      <td>1</td>\n",
       "      <td>0</td>\n",
       "      <td>Yes</td>\n",
       "      <td>Self-employed</td>\n",
       "      <td>Rural</td>\n",
       "      <td>174.12</td>\n",
       "      <td>24.0</td>\n",
       "      <td>never smoked</td>\n",
       "      <td>1</td>\n",
       "    </tr>\n",
       "    <tr>\n",
       "      <th>4</th>\n",
       "      <td>56669</td>\n",
       "      <td>Male</td>\n",
       "      <td>81</td>\n",
       "      <td>0</td>\n",
       "      <td>0</td>\n",
       "      <td>Yes</td>\n",
       "      <td>Private</td>\n",
       "      <td>Urban</td>\n",
       "      <td>186.21</td>\n",
       "      <td>29.0</td>\n",
       "      <td>formerly smoked</td>\n",
       "      <td>1</td>\n",
       "    </tr>\n",
       "    <tr>\n",
       "      <th>...</th>\n",
       "      <td>...</td>\n",
       "      <td>...</td>\n",
       "      <td>...</td>\n",
       "      <td>...</td>\n",
       "      <td>...</td>\n",
       "      <td>...</td>\n",
       "      <td>...</td>\n",
       "      <td>...</td>\n",
       "      <td>...</td>\n",
       "      <td>...</td>\n",
       "      <td>...</td>\n",
       "      <td>...</td>\n",
       "    </tr>\n",
       "    <tr>\n",
       "      <th>3421</th>\n",
       "      <td>68398</td>\n",
       "      <td>Male</td>\n",
       "      <td>82</td>\n",
       "      <td>1</td>\n",
       "      <td>0</td>\n",
       "      <td>Yes</td>\n",
       "      <td>Self-employed</td>\n",
       "      <td>Rural</td>\n",
       "      <td>71.97</td>\n",
       "      <td>28.3</td>\n",
       "      <td>never smoked</td>\n",
       "      <td>0</td>\n",
       "    </tr>\n",
       "    <tr>\n",
       "      <th>3422</th>\n",
       "      <td>45010</td>\n",
       "      <td>Female</td>\n",
       "      <td>57</td>\n",
       "      <td>0</td>\n",
       "      <td>0</td>\n",
       "      <td>Yes</td>\n",
       "      <td>Private</td>\n",
       "      <td>Rural</td>\n",
       "      <td>77.93</td>\n",
       "      <td>21.7</td>\n",
       "      <td>never smoked</td>\n",
       "      <td>0</td>\n",
       "    </tr>\n",
       "    <tr>\n",
       "      <th>3423</th>\n",
       "      <td>44873</td>\n",
       "      <td>Female</td>\n",
       "      <td>81</td>\n",
       "      <td>0</td>\n",
       "      <td>0</td>\n",
       "      <td>Yes</td>\n",
       "      <td>Self-employed</td>\n",
       "      <td>Urban</td>\n",
       "      <td>125.20</td>\n",
       "      <td>40.0</td>\n",
       "      <td>never smoked</td>\n",
       "      <td>0</td>\n",
       "    </tr>\n",
       "    <tr>\n",
       "      <th>3424</th>\n",
       "      <td>19723</td>\n",
       "      <td>Female</td>\n",
       "      <td>35</td>\n",
       "      <td>0</td>\n",
       "      <td>0</td>\n",
       "      <td>Yes</td>\n",
       "      <td>Self-employed</td>\n",
       "      <td>Rural</td>\n",
       "      <td>82.99</td>\n",
       "      <td>30.6</td>\n",
       "      <td>never smoked</td>\n",
       "      <td>0</td>\n",
       "    </tr>\n",
       "    <tr>\n",
       "      <th>3425</th>\n",
       "      <td>37544</td>\n",
       "      <td>Male</td>\n",
       "      <td>51</td>\n",
       "      <td>0</td>\n",
       "      <td>0</td>\n",
       "      <td>Yes</td>\n",
       "      <td>Private</td>\n",
       "      <td>Rural</td>\n",
       "      <td>166.29</td>\n",
       "      <td>25.6</td>\n",
       "      <td>formerly smoked</td>\n",
       "      <td>0</td>\n",
       "    </tr>\n",
       "  </tbody>\n",
       "</table>\n",
       "<p>3426 rows × 12 columns</p>\n",
       "</div>"
      ],
      "text/plain": [
       "         id  gender  age  hypertension  heart_disease ever_married  \\\n",
       "0      9046    Male   67             0              1          Yes   \n",
       "1     31112    Male   80             0              1          Yes   \n",
       "2     60182  Female   49             0              0          Yes   \n",
       "3      1665  Female   79             1              0          Yes   \n",
       "4     56669    Male   81             0              0          Yes   \n",
       "...     ...     ...  ...           ...            ...          ...   \n",
       "3421  68398    Male   82             1              0          Yes   \n",
       "3422  45010  Female   57             0              0          Yes   \n",
       "3423  44873  Female   81             0              0          Yes   \n",
       "3424  19723  Female   35             0              0          Yes   \n",
       "3425  37544    Male   51             0              0          Yes   \n",
       "\n",
       "          work_type Residence_type  avg_glucose_level   bmi   smoking_status  \\\n",
       "0           Private          Urban             228.69  36.6  formerly smoked   \n",
       "1           Private          Rural             105.92  32.5     never smoked   \n",
       "2           Private          Urban             171.23  34.4           smokes   \n",
       "3     Self-employed          Rural             174.12  24.0     never smoked   \n",
       "4           Private          Urban             186.21  29.0  formerly smoked   \n",
       "...             ...            ...                ...   ...              ...   \n",
       "3421  Self-employed          Rural              71.97  28.3     never smoked   \n",
       "3422        Private          Rural              77.93  21.7     never smoked   \n",
       "3423  Self-employed          Urban             125.20  40.0     never smoked   \n",
       "3424  Self-employed          Rural              82.99  30.6     never smoked   \n",
       "3425        Private          Rural             166.29  25.6  formerly smoked   \n",
       "\n",
       "      stroke  \n",
       "0          1  \n",
       "1          1  \n",
       "2          1  \n",
       "3          1  \n",
       "4          1  \n",
       "...      ...  \n",
       "3421       0  \n",
       "3422       0  \n",
       "3423       0  \n",
       "3424       0  \n",
       "3425       0  \n",
       "\n",
       "[3426 rows x 12 columns]"
      ]
     },
     "execution_count": 3,
     "metadata": {},
     "output_type": "execute_result"
    }
   ],
   "source": [
    "data=pd.read_csv('dataset.csv')\n",
    "data"
   ]
  },
  {
   "cell_type": "markdown",
   "id": "8fefc63f",
   "metadata": {},
   "source": []
  },
  {
   "cell_type": "markdown",
   "id": "9e28953c",
   "metadata": {},
   "source": [
    "# DATA ENCODING (PREPARATION)"
   ]
  },
  {
   "cell_type": "code",
   "execution_count": 4,
   "id": "ed733ef2",
   "metadata": {},
   "outputs": [],
   "source": [
    "# convert string to numeric using map\n",
    "\n",
    "# gender\n",
    "data['gender'] = data['gender'].map({\n",
    "'Male': int(0),\n",
    "'Female':int(1),\n",
    "'Other':int(2)})\n",
    "\n",
    "# ever_married\n",
    "data['ever_married'] =data['ever_married'].map({\n",
    "'Yes':int(1), \n",
    "'No':int(0)})\n",
    "\n",
    "# work_type\n",
    "data['work_type'] = data['work_type'].map({\n",
    "'Private':int(3), \n",
    "'Self-employed':int(4),\n",
    "'Govt_job':int(2), \n",
    "'children':int(1), \n",
    "'Never_worked':int(0)})\n",
    "\n",
    "# Residence_type\n",
    "data['Residence_type'] = data['Residence_type'].map({\n",
    "'Urban':int(2), \n",
    "'Rural':int(1)})\n",
    "\n",
    "# smoking_status\n",
    "data['smoking_status'] = data['smoking_status'].map({\n",
    "'formerly smoked':int(1),\n",
    "'never smoked':int(2), \n",
    "'smokes':int(3),\n",
    "'Unknown':int(0)})"
   ]
  },
  {
   "cell_type": "code",
   "execution_count": 5,
   "id": "46612811",
   "metadata": {},
   "outputs": [],
   "source": [
    "### attributes used in the classification"
   ]
  },
  {
   "cell_type": "code",
   "execution_count": 6,
   "id": "52b4a884",
   "metadata": {},
   "outputs": [],
   "source": [
    "x=data[['gender','age','hypertension','heart_disease','ever_married','work_type','Residence_type','avg_glucose_level','bmi','smoking_status']]\n",
    "y=data[['stroke']]\n",
    "x=x.values\n",
    "y=y.values"
   ]
  },
  {
   "cell_type": "markdown",
   "id": "b5f8bc23",
   "metadata": {},
   "source": []
  },
  {
   "cell_type": "markdown",
   "id": "6046272c",
   "metadata": {},
   "source": [
    "# SPLIT DATASET "
   ]
  },
  {
   "cell_type": "code",
   "execution_count": 7,
   "id": "c6f8adda",
   "metadata": {},
   "outputs": [],
   "source": [
    "from sklearn.model_selection import train_test_split\n",
    "from sklearn.datasets import load_iris"
   ]
  },
  {
   "cell_type": "code",
   "execution_count": 8,
   "id": "4e767198",
   "metadata": {},
   "outputs": [],
   "source": [
    "X_train, X_test, y_train, y_test = train_test_split(x, y, test_size = 0.20,random_state=42)"
   ]
  },
  {
   "cell_type": "code",
   "execution_count": 9,
   "id": "fbe05830",
   "metadata": {},
   "outputs": [
    {
     "name": "stdout",
     "output_type": "stream",
     "text": [
      "(2740, 10)\n",
      "(686, 10)\n"
     ]
    }
   ],
   "source": [
    "print(X_train.shape)\n",
    "print(X_test.shape)"
   ]
  },
  {
   "cell_type": "code",
   "execution_count": 10,
   "id": "e55fab29",
   "metadata": {},
   "outputs": [
    {
     "name": "stdout",
     "output_type": "stream",
     "text": [
      "(2740,)\n",
      "(686,)\n"
     ]
    }
   ],
   "source": [
    "y_train=y_train.flatten()\n",
    "y_test=y_test.flatten()\n",
    "print(y_train.shape)\n",
    "print(y_test.shape)"
   ]
  },
  {
   "cell_type": "markdown",
   "id": "14dda6ec",
   "metadata": {},
   "source": [
    " "
   ]
  },
  {
   "cell_type": "markdown",
   "id": "b06e4026",
   "metadata": {},
   "source": [
    " "
   ]
  },
  {
   "cell_type": "markdown",
   "id": "1e320a0d",
   "metadata": {},
   "source": [
    "# Different numbers of hidden nodes"
   ]
  },
  {
   "cell_type": "code",
   "execution_count": 11,
   "id": "68a3a733",
   "metadata": {},
   "outputs": [],
   "source": [
    "import tensorflow as tf\n",
    "from keras.models import Sequential\n",
    "from keras.layers import Dense\n",
    "import matplotlib.pyplot as plt\n",
    "import math"
   ]
  },
  {
   "cell_type": "code",
   "execution_count": 12,
   "id": "939bb261",
   "metadata": {},
   "outputs": [],
   "source": [
    "testerr=[]"
   ]
  },
  {
   "cell_type": "code",
   "execution_count": 13,
   "id": "effb4498",
   "metadata": {},
   "outputs": [],
   "source": [
    "hiddennodes=[1,2,3,math.sqrt(11),(math.sqrt(11))/2]"
   ]
  },
  {
   "cell_type": "code",
   "execution_count": 14,
   "id": "ddd8d6da",
   "metadata": {},
   "outputs": [
    {
     "name": "stdout",
     "output_type": "stream",
     "text": [
      "86/86 [==============================] - 1s 5ms/step - loss: 14.4723 - accuracy: 0.0509 - val_loss: 14.2712 - val_accuracy: 0.0641\n"
     ]
    }
   ],
   "source": [
    "# define keras model\n",
    "model=tf.keras.Sequential()\n",
    "\n",
    "model.add(tf.keras.layers.Dense(1,activation='relu'))\n",
    "\n",
    "#compile keras model\n",
    "model.compile('adam','binary_crossentropy',metrics=['accuracy'])\n",
    "\n",
    "history = model.fit(X_train, y_train, validation_data=(X_test, y_test),verbose=1)\n",
    "test_loss = history.history['val_loss']\n",
    "testerr.append(test_loss)"
   ]
  },
  {
   "cell_type": "code",
   "execution_count": 15,
   "id": "09cd47ab",
   "metadata": {},
   "outputs": [
    {
     "name": "stdout",
     "output_type": "stream",
     "text": [
      "86/86 [==============================] - 0s 2ms/step - loss: 14.4484 - accuracy: 0.3214 - val_loss: 14.2156 - val_accuracy: 0.4082\n"
     ]
    }
   ],
   "source": [
    "# define keras model\n",
    "model=tf.keras.Sequential()\n",
    "\n",
    "model.add(tf.keras.layers.Dense(2,activation='relu'))\n",
    "\n",
    "#compile keras model\n",
    "model.compile('adam','binary_crossentropy',metrics=['accuracy'])\n",
    "\n",
    "history = model.fit(X_train, y_train, validation_data=(X_test, y_test),verbose=1)\n",
    "test_loss = history.history['val_loss']\n",
    "testerr.append(test_loss)"
   ]
  },
  {
   "cell_type": "code",
   "execution_count": 16,
   "id": "e35dc638",
   "metadata": {},
   "outputs": [
    {
     "name": "stdout",
     "output_type": "stream",
     "text": [
      "86/86 [==============================] - 0s 3ms/step - loss: 9.9244 - accuracy: 0.0481 - val_loss: 9.8439 - val_accuracy: 0.0641\n"
     ]
    }
   ],
   "source": [
    "# define keras model\n",
    "model=tf.keras.Sequential()\n",
    "\n",
    "model.add(tf.keras.layers.Dense(3,activation='relu'))\n",
    "\n",
    "#compile keras model\n",
    "model.compile('adam','binary_crossentropy',metrics=['accuracy'])\n",
    "\n",
    "history = model.fit(X_train, y_train, validation_data=(X_test, y_test),verbose=1)\n",
    "test_loss = history.history['val_loss']\n",
    "testerr.append(test_loss)"
   ]
  },
  {
   "cell_type": "code",
   "execution_count": 17,
   "id": "ee41e847",
   "metadata": {},
   "outputs": [
    {
     "name": "stdout",
     "output_type": "stream",
     "text": [
      "86/86 [==============================] - 0s 2ms/step - loss: 9.2727 - accuracy: 0.9519 - val_loss: 8.3349 - val_accuracy: 0.9359\n"
     ]
    }
   ],
   "source": [
    "# define keras model\n",
    "model=tf.keras.Sequential()\n",
    "\n",
    "model.add(tf.keras.layers.Dense(math.sqrt(11),activation='relu'))\n",
    "\n",
    "#compile keras model\n",
    "model.compile('adam','binary_crossentropy',metrics=['accuracy'])\n",
    "\n",
    "history = model.fit(X_train, y_train, validation_data=(X_test, y_test),verbose=1)\n",
    "test_loss = history.history['val_loss']\n",
    "testerr.append(test_loss)"
   ]
  },
  {
   "cell_type": "code",
   "execution_count": 18,
   "id": "cdcc09ab",
   "metadata": {},
   "outputs": [
    {
     "name": "stdout",
     "output_type": "stream",
     "text": [
      "86/86 [==============================] - 0s 2ms/step - loss: 0.7258 - accuracy: 0.9530 - val_loss: 0.9894 - val_accuracy: 0.9359\n"
     ]
    }
   ],
   "source": [
    "# define keras model\n",
    "model=tf.keras.Sequential()\n",
    "\n",
    "model.add(tf.keras.layers.Dense((math.sqrt(11))/2,activation='relu'))\n",
    "\n",
    "#compile keras model\n",
    "model.compile('adam','binary_crossentropy',metrics=['accuracy'])\n",
    "\n",
    "history = model.fit(X_train, y_train, validation_data=(X_test, y_test),verbose=1)\n",
    "test_loss = history.history['val_loss']\n",
    "testerr.append(test_loss)"
   ]
  },
  {
   "cell_type": "code",
   "execution_count": 19,
   "id": "3bd7309e",
   "metadata": {},
   "outputs": [
    {
     "name": "stdout",
     "output_type": "stream",
     "text": [
      "[[14.27115249633789], [14.215579986572266], [9.843886375427246], [8.334875106811523], [0.9893553256988525]]\n"
     ]
    }
   ],
   "source": [
    "print(testerr)"
   ]
  },
  {
   "cell_type": "code",
   "execution_count": 20,
   "id": "a5cf943d",
   "metadata": {},
   "outputs": [
    {
     "data": {
      "image/png": "[encoded data removed]",
      "text/plain": [
       "<Figure size 576x396 with 1 Axes>"
      ]
     },
     "metadata": {},
     "output_type": "display_data"
    }
   ],
   "source": [
    "plt.plot(hiddennodes, testerr, 'r--')\n",
    "plt.xlabel('Hidden Nodes')\n",
    "plt.ylabel('Test Errors')\n",
    "plt.show();"
   ]
  },
  {
   "cell_type": "markdown",
   "id": "d0cd5b52",
   "metadata": {},
   "source": [
    "## INFERENCES\n",
    "\n",
    "The above graph shows that Test error is high at Hidden node 1 and 2. \n",
    "\n",
    "When it increases, the test error decreases.\n",
    "\n",
    "When hidden node is half of sqrt(attributes), it even decreases.\n",
    "\n",
    "As the process goes, the test error decreases. "
   ]
  }
 ],
 "metadata": {
  "kernelspec": {
   "display_name": "Python 3",
   "language": "python",
   "name": "python3"
  },
  "language_info": {
   "codemirror_mode": {
    "name": "ipython",
    "version": 3
   },
   "file_extension": ".py",
   "mimetype": "text/x-python",
   "name": "python",
   "nbconvert_exporter": "python",
   "pygments_lexer": "ipython3",
   "version": "3.8.5"
  }
 },
 "nbformat": 4,
 "nbformat_minor": 5
}
