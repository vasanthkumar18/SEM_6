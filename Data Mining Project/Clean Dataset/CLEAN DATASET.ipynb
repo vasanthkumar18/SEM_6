{
 "cells": [
  {
   "cell_type": "markdown",
   "id": "96c35c4e",
   "metadata": {},
   "source": [
    "# DATASET"
   ]
  },
  {
   "cell_type": "markdown",
   "id": "5663924b",
   "metadata": {},
   "source": [
    "#### BASIC INFO:\n",
    "    \n",
    "According to the World Health Organization (WHO) stroke is the 2nd leading cause of death globally, responsible for approximately 11% of total deaths.\n",
    "\n",
    "This dataset is used to predict whether a patient is likely to get stroke based on the input parameters like gender, age, various diseases, and smoking status. \n",
    "\n",
    "Each row in the data provides relavant information about the patient."
   ]
  },
  {
   "cell_type": "markdown",
   "id": "9effb14b",
   "metadata": {},
   "source": [
    "##### ABOUT THE PROBLEM\n",
    "\n",
    "Our top priority in this health problem is to identify patients with a stroke.\n",
    "\n"
   ]
  },
  {
   "cell_type": "markdown",
   "id": "6650898b",
   "metadata": {},
   "source": [
    "#### ATTRIBUTES\n",
    "\n",
    "1) id: unique identifier\n",
    "    \n",
    "2) gender: \"Male\", \"Female\" or \"Other\"\n",
    "    \n",
    "3) age: age of the patient\n",
    "    \n",
    "4) hypertension: 0 if the patient doesn't have hypertension, 1 if the patient has hypertension\n",
    "    \n",
    "5) heart_disease: 0 if the patient doesn't have any heart diseases, 1 if the patient has a heart disease\n",
    "    \n",
    "6) ever_married: \"No\" or \"Yes\"\n",
    "    \n",
    "7) work_type: \"children\", \"Govt_jov\", \"Never_worked\", \"Private\" or \"Self-employed\"\n",
    "    \n",
    "8) Residence_type: \"Rural\" or \"Urban\"\n",
    "    \n",
    "9) avg_glucose_level: average glucose level in blood\n",
    "    \n",
    "10) bmi: body mass index\n",
    "    \n",
    "11) smoking_status: \"formerly smoked\", \"never smoked\", \"smokes\" or \"Unknown\"*\n",
    "    \n",
    "12) stroke: 1 if the patient had a stroke or 0 if not\n",
    "    \n",
    "*Note: \"Unknown\" in smoking_status means that the information is unavailable for this patient"
   ]
  },
  {
   "cell_type": "markdown",
   "id": "4d117cf1",
   "metadata": {},
   "source": [
    "## EXTRA DATA\n",
    "\n"
   ]
  },
  {
   "cell_type": "markdown",
   "id": "68b83404",
   "metadata": {},
   "source": [
    "#### NUMBER OF SAMPLES: \n",
    " 1 which has been divided into training and test data\n",
    " \n",
    "#### CLASSES:\n",
    " Contains\n",
    " 1. Binary class: only two classes e.g. (labels- yes/no)\n",
    " 2. Multi class: more than two classes e.g. (dress, bag, footwear, jwellery)\n",
    " \n",
    "#### DISTRIBUTION OF CLASSES\n",
    " 1. Binary Class: gender, hypertension, heart_disease, ever_married, Residence_type, stroke\n",
    " 2. Multi Class: age, id, work_type, avg_glucose_level_mbi, smoking_status"
   ]
  },
  {
   "cell_type": "markdown",
   "id": "8525d7d2",
   "metadata": {},
   "source": [
    " "
   ]
  },
  {
   "cell_type": "markdown",
   "id": "6b1cd082",
   "metadata": {},
   "source": [
    " "
   ]
  },
  {
   "cell_type": "markdown",
   "id": "7053d2c9",
   "metadata": {},
   "source": [
    "# CLEANING THE DATASET"
   ]
  },
  {
   "cell_type": "code",
   "execution_count": 1,
   "id": "e1c205e2",
   "metadata": {},
   "outputs": [],
   "source": [
    "import csv\n",
    "with open('healthcare-dataset-stroke-data.csv','r') as inp, open('dataset.csv','w') as out:\n",
    "    writer=csv.writer(out)\n",
    "    for row in csv.reader(inp):\n",
    "        if(row[9]!='N/A' and row[10]!='Unknown'):\n",
    "            writer.writerow(row)"
   ]
  },
  {
   "cell_type": "markdown",
   "id": "9c94cff8",
   "metadata": {},
   "source": [
    "NOTE: data.csv is the dataset obtained after cleaning"
   ]
  }
 ],
 "metadata": {
  "kernelspec": {
   "display_name": "Python 3",
   "language": "python",
   "name": "python3"
  },
  "language_info": {
   "codemirror_mode": {
    "name": "ipython",
    "version": 3
   },
   "file_extension": ".py",
   "mimetype": "text/x-python",
   "name": "python",
   "nbconvert_exporter": "python",
   "pygments_lexer": "ipython3",
   "version": "3.8.5"
  }
 },
 "nbformat": 4,
 "nbformat_minor": 5
}
