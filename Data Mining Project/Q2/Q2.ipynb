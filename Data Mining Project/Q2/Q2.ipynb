{
 "cells": [
  {
   "cell_type": "markdown",
   "id": "e319bbb4",
   "metadata": {},
   "source": [
    "# IMPORTING MODULES"
   ]
  },
  {
   "cell_type": "code",
   "execution_count": 102,
   "id": "e0414cb8",
   "metadata": {},
   "outputs": [],
   "source": [
    "import numpy as np\n",
    "\n",
    "# dataa split\n",
    "from sklearn.model_selection import train_test_split\n",
    "\n",
    "# model Evaluation\n",
    "from sklearn import metrics\n",
    "\n",
    "#navie bayesian and accuracy\n",
    "from sklearn.naive_bayes import GaussianNB\n",
    "from sklearn.metrics import accuracy_score\n",
    "\n",
    "#pandas\n",
    "import pandas as pd\n",
    "import matplotlib.pyplot as plt\n",
    "%matplotlib inline \n",
    "plt.style.use('seaborn')"
   ]
  },
  {
   "cell_type": "code",
   "execution_count": 103,
   "id": "db6023f2",
   "metadata": {},
   "outputs": [],
   "source": [
    "import seaborn as sns\n",
    "import plotly.express as px\n",
    "\n",
    "# SMOTE\n",
    "from imblearn.over_sampling import SMOTE\n",
    "\n",
    "# scaling\n",
    "from sklearn.preprocessing import StandardScaler\n",
    "\n",
    "# tune\n",
    "from sklearn.model_selection import RandomizedSearchCV\n"
   ]
  },
  {
   "cell_type": "markdown",
   "id": "7352369e",
   "metadata": {},
   "source": []
  },
  {
   "cell_type": "markdown",
   "id": "bb099b88",
   "metadata": {},
   "source": [
    "# READING THE DATASET"
   ]
  },
  {
   "cell_type": "code",
   "execution_count": 104,
   "id": "22773e04",
   "metadata": {},
   "outputs": [
    {
     "data": {
      "text/html": [
       "<div>\n",
       "<style scoped>\n",
       "    .dataframe tbody tr th:only-of-type {\n",
       "        vertical-align: middle;\n",
       "    }\n",
       "\n",
       "    .dataframe tbody tr th {\n",
       "        vertical-align: top;\n",
       "    }\n",
       "\n",
       "    .dataframe thead th {\n",
       "        text-align: right;\n",
       "    }\n",
       "</style>\n",
       "<table border=\"1\" class=\"dataframe\">\n",
       "  <thead>\n",
       "    <tr style=\"text-align: right;\">\n",
       "      <th></th>\n",
       "      <th>id</th>\n",
       "      <th>gender</th>\n",
       "      <th>age</th>\n",
       "      <th>hypertension</th>\n",
       "      <th>heart_disease</th>\n",
       "      <th>ever_married</th>\n",
       "      <th>work_type</th>\n",
       "      <th>Residence_type</th>\n",
       "      <th>avg_glucose_level</th>\n",
       "      <th>bmi</th>\n",
       "      <th>smoking_status</th>\n",
       "      <th>stroke</th>\n",
       "    </tr>\n",
       "  </thead>\n",
       "  <tbody>\n",
       "    <tr>\n",
       "      <th>0</th>\n",
       "      <td>9046</td>\n",
       "      <td>Male</td>\n",
       "      <td>67</td>\n",
       "      <td>0</td>\n",
       "      <td>1</td>\n",
       "      <td>Yes</td>\n",
       "      <td>Private</td>\n",
       "      <td>Urban</td>\n",
       "      <td>228.69</td>\n",
       "      <td>36.6</td>\n",
       "      <td>formerly smoked</td>\n",
       "      <td>1</td>\n",
       "    </tr>\n",
       "    <tr>\n",
       "      <th>1</th>\n",
       "      <td>31112</td>\n",
       "      <td>Male</td>\n",
       "      <td>80</td>\n",
       "      <td>0</td>\n",
       "      <td>1</td>\n",
       "      <td>Yes</td>\n",
       "      <td>Private</td>\n",
       "      <td>Rural</td>\n",
       "      <td>105.92</td>\n",
       "      <td>32.5</td>\n",
       "      <td>never smoked</td>\n",
       "      <td>1</td>\n",
       "    </tr>\n",
       "    <tr>\n",
       "      <th>2</th>\n",
       "      <td>60182</td>\n",
       "      <td>Female</td>\n",
       "      <td>49</td>\n",
       "      <td>0</td>\n",
       "      <td>0</td>\n",
       "      <td>Yes</td>\n",
       "      <td>Private</td>\n",
       "      <td>Urban</td>\n",
       "      <td>171.23</td>\n",
       "      <td>34.4</td>\n",
       "      <td>smokes</td>\n",
       "      <td>1</td>\n",
       "    </tr>\n",
       "    <tr>\n",
       "      <th>3</th>\n",
       "      <td>1665</td>\n",
       "      <td>Female</td>\n",
       "      <td>79</td>\n",
       "      <td>1</td>\n",
       "      <td>0</td>\n",
       "      <td>Yes</td>\n",
       "      <td>Self-employed</td>\n",
       "      <td>Rural</td>\n",
       "      <td>174.12</td>\n",
       "      <td>24.0</td>\n",
       "      <td>never smoked</td>\n",
       "      <td>1</td>\n",
       "    </tr>\n",
       "    <tr>\n",
       "      <th>4</th>\n",
       "      <td>56669</td>\n",
       "      <td>Male</td>\n",
       "      <td>81</td>\n",
       "      <td>0</td>\n",
       "      <td>0</td>\n",
       "      <td>Yes</td>\n",
       "      <td>Private</td>\n",
       "      <td>Urban</td>\n",
       "      <td>186.21</td>\n",
       "      <td>29.0</td>\n",
       "      <td>formerly smoked</td>\n",
       "      <td>1</td>\n",
       "    </tr>\n",
       "    <tr>\n",
       "      <th>...</th>\n",
       "      <td>...</td>\n",
       "      <td>...</td>\n",
       "      <td>...</td>\n",
       "      <td>...</td>\n",
       "      <td>...</td>\n",
       "      <td>...</td>\n",
       "      <td>...</td>\n",
       "      <td>...</td>\n",
       "      <td>...</td>\n",
       "      <td>...</td>\n",
       "      <td>...</td>\n",
       "      <td>...</td>\n",
       "    </tr>\n",
       "    <tr>\n",
       "      <th>3421</th>\n",
       "      <td>68398</td>\n",
       "      <td>Male</td>\n",
       "      <td>82</td>\n",
       "      <td>1</td>\n",
       "      <td>0</td>\n",
       "      <td>Yes</td>\n",
       "      <td>Self-employed</td>\n",
       "      <td>Rural</td>\n",
       "      <td>71.97</td>\n",
       "      <td>28.3</td>\n",
       "      <td>never smoked</td>\n",
       "      <td>0</td>\n",
       "    </tr>\n",
       "    <tr>\n",
       "      <th>3422</th>\n",
       "      <td>45010</td>\n",
       "      <td>Female</td>\n",
       "      <td>57</td>\n",
       "      <td>0</td>\n",
       "      <td>0</td>\n",
       "      <td>Yes</td>\n",
       "      <td>Private</td>\n",
       "      <td>Rural</td>\n",
       "      <td>77.93</td>\n",
       "      <td>21.7</td>\n",
       "      <td>never smoked</td>\n",
       "      <td>0</td>\n",
       "    </tr>\n",
       "    <tr>\n",
       "      <th>3423</th>\n",
       "      <td>44873</td>\n",
       "      <td>Female</td>\n",
       "      <td>81</td>\n",
       "      <td>0</td>\n",
       "      <td>0</td>\n",
       "      <td>Yes</td>\n",
       "      <td>Self-employed</td>\n",
       "      <td>Urban</td>\n",
       "      <td>125.20</td>\n",
       "      <td>40.0</td>\n",
       "      <td>never smoked</td>\n",
       "      <td>0</td>\n",
       "    </tr>\n",
       "    <tr>\n",
       "      <th>3424</th>\n",
       "      <td>19723</td>\n",
       "      <td>Female</td>\n",
       "      <td>35</td>\n",
       "      <td>0</td>\n",
       "      <td>0</td>\n",
       "      <td>Yes</td>\n",
       "      <td>Self-employed</td>\n",
       "      <td>Rural</td>\n",
       "      <td>82.99</td>\n",
       "      <td>30.6</td>\n",
       "      <td>never smoked</td>\n",
       "      <td>0</td>\n",
       "    </tr>\n",
       "    <tr>\n",
       "      <th>3425</th>\n",
       "      <td>37544</td>\n",
       "      <td>Male</td>\n",
       "      <td>51</td>\n",
       "      <td>0</td>\n",
       "      <td>0</td>\n",
       "      <td>Yes</td>\n",
       "      <td>Private</td>\n",
       "      <td>Rural</td>\n",
       "      <td>166.29</td>\n",
       "      <td>25.6</td>\n",
       "      <td>formerly smoked</td>\n",
       "      <td>0</td>\n",
       "    </tr>\n",
       "  </tbody>\n",
       "</table>\n",
       "<p>3426 rows × 12 columns</p>\n",
       "</div>"
      ],
      "text/plain": [
       "         id  gender  age  hypertension  heart_disease ever_married  \\\n",
       "0      9046    Male   67             0              1          Yes   \n",
       "1     31112    Male   80             0              1          Yes   \n",
       "2     60182  Female   49             0              0          Yes   \n",
       "3      1665  Female   79             1              0          Yes   \n",
       "4     56669    Male   81             0              0          Yes   \n",
       "...     ...     ...  ...           ...            ...          ...   \n",
       "3421  68398    Male   82             1              0          Yes   \n",
       "3422  45010  Female   57             0              0          Yes   \n",
       "3423  44873  Female   81             0              0          Yes   \n",
       "3424  19723  Female   35             0              0          Yes   \n",
       "3425  37544    Male   51             0              0          Yes   \n",
       "\n",
       "          work_type Residence_type  avg_glucose_level   bmi   smoking_status  \\\n",
       "0           Private          Urban             228.69  36.6  formerly smoked   \n",
       "1           Private          Rural             105.92  32.5     never smoked   \n",
       "2           Private          Urban             171.23  34.4           smokes   \n",
       "3     Self-employed          Rural             174.12  24.0     never smoked   \n",
       "4           Private          Urban             186.21  29.0  formerly smoked   \n",
       "...             ...            ...                ...   ...              ...   \n",
       "3421  Self-employed          Rural              71.97  28.3     never smoked   \n",
       "3422        Private          Rural              77.93  21.7     never smoked   \n",
       "3423  Self-employed          Urban             125.20  40.0     never smoked   \n",
       "3424  Self-employed          Rural              82.99  30.6     never smoked   \n",
       "3425        Private          Rural             166.29  25.6  formerly smoked   \n",
       "\n",
       "      stroke  \n",
       "0          1  \n",
       "1          1  \n",
       "2          1  \n",
       "3          1  \n",
       "4          1  \n",
       "...      ...  \n",
       "3421       0  \n",
       "3422       0  \n",
       "3423       0  \n",
       "3424       0  \n",
       "3425       0  \n",
       "\n",
       "[3426 rows x 12 columns]"
      ]
     },
     "execution_count": 104,
     "metadata": {},
     "output_type": "execute_result"
    }
   ],
   "source": [
    "data=pd.read_csv('dataset.csv')\n",
    "data"
   ]
  },
  {
   "cell_type": "markdown",
   "id": "8fefc63f",
   "metadata": {},
   "source": []
  },
  {
   "cell_type": "markdown",
   "id": "9e28953c",
   "metadata": {},
   "source": [
    "# DATA ENCODING (PREPARATION)"
   ]
  },
  {
   "cell_type": "code",
   "execution_count": 105,
   "id": "ed733ef2",
   "metadata": {},
   "outputs": [],
   "source": [
    "# convert string to numeric using map\n",
    "\n",
    "# gender\n",
    "data['gender'] = data['gender'].map({\n",
    "'Male': int(0),\n",
    "'Female':int(1),\n",
    "'Other':int(2)})\n",
    "\n",
    "# ever_married\n",
    "data['ever_married'] =data['ever_married'].map({\n",
    "'Yes':int(1), \n",
    "'No':int(0)})\n",
    "\n",
    "# work_type\n",
    "data['work_type'] = data['work_type'].map({\n",
    "'Private':int(3), \n",
    "'Self-employed':int(4),\n",
    "'Govt_job':int(2), \n",
    "'children':int(1), \n",
    "'Never_worked':int(0)})\n",
    "\n",
    "# Residence_type\n",
    "data['Residence_type'] = data['Residence_type'].map({\n",
    "'Urban':int(2), \n",
    "'Rural':int(1)})\n",
    "\n",
    "# smoking_status\n",
    "data['smoking_status'] = data['smoking_status'].map({\n",
    "'formerly smoked':int(1),\n",
    "'never smoked':int(2), \n",
    "'smokes':int(3),\n",
    "'Unknown':int(0)})"
   ]
  },
  {
   "cell_type": "code",
   "execution_count": 106,
   "id": "46612811",
   "metadata": {},
   "outputs": [],
   "source": [
    "### attributes used in the classification"
   ]
  },
  {
   "cell_type": "code",
   "execution_count": 107,
   "id": "52b4a884",
   "metadata": {},
   "outputs": [],
   "source": [
    "x=data[['gender','age','hypertension','heart_disease','ever_married','work_type','Residence_type','avg_glucose_level','bmi','smoking_status']]\n",
    "y=data[['stroke']]\n",
    "x=x.values\n",
    "y=y.values"
   ]
  },
  {
   "cell_type": "markdown",
   "id": "b5f8bc23",
   "metadata": {},
   "source": []
  },
  {
   "cell_type": "markdown",
   "id": "6046272c",
   "metadata": {},
   "source": [
    "# SPLIT DATASET "
   ]
  },
  {
   "cell_type": "code",
   "execution_count": 108,
   "id": "c6f8adda",
   "metadata": {},
   "outputs": [],
   "source": [
    "from sklearn.model_selection import train_test_split\n",
    "from sklearn.datasets import load_iris"
   ]
  },
  {
   "cell_type": "code",
   "execution_count": 109,
   "id": "4e767198",
   "metadata": {},
   "outputs": [],
   "source": [
    "X_train, X_test, y_train, y_test = train_test_split(x, y, test_size = 0.20,random_state=42)"
   ]
  },
  {
   "cell_type": "code",
   "execution_count": 110,
   "id": "fbe05830",
   "metadata": {},
   "outputs": [
    {
     "name": "stdout",
     "output_type": "stream",
     "text": [
      "(2740, 10)\n",
      "(686, 10)\n"
     ]
    }
   ],
   "source": [
    "print(X_train.shape)\n",
    "print(X_test.shape)"
   ]
  },
  {
   "cell_type": "code",
   "execution_count": 111,
   "id": "e55fab29",
   "metadata": {},
   "outputs": [
    {
     "name": "stdout",
     "output_type": "stream",
     "text": [
      "(2740,)\n",
      "(686,)\n"
     ]
    }
   ],
   "source": [
    "y_train=y_train.flatten()\n",
    "y_test=y_test.flatten()\n",
    "print(y_train.shape)\n",
    "print(y_test.shape)"
   ]
  },
  {
   "cell_type": "markdown",
   "id": "14dda6ec",
   "metadata": {},
   "source": []
  },
  {
   "cell_type": "markdown",
   "id": "b06e4026",
   "metadata": {},
   "source": []
  },
  {
   "cell_type": "markdown",
   "id": "1e320a0d",
   "metadata": {},
   "source": [
    "# RELU activation function"
   ]
  },
  {
   "cell_type": "code",
   "execution_count": 112,
   "id": "4955c6d6",
   "metadata": {},
   "outputs": [],
   "source": [
    "import tensorflow as tf\n",
    "from keras.models import Sequential\n",
    "from keras.layers import Dense\n",
    "import matplotlib.pyplot as plt"
   ]
  },
  {
   "cell_type": "code",
   "execution_count": 113,
   "id": "5c591e36",
   "metadata": {},
   "outputs": [],
   "source": [
    "\n",
    "# define keras model\n",
    "model=tf.keras.Sequential()\n",
    "\n",
    "model.add(tf.keras.layers.Dense(units=25,activation='relu'))\n",
    "\n",
    "#compile keras model\n",
    "model.compile('adam','binary_crossentropy',metrics=['accuracy'])"
   ]
  },
  {
   "cell_type": "code",
   "execution_count": 114,
   "id": "717662d9",
   "metadata": {},
   "outputs": [
    {
     "name": "stdout",
     "output_type": "stream",
     "text": [
      "Epoch 1/5\n",
      "86/86 [==============================] - 0s 3ms/step - loss: 6.2830 - accuracy: 0.0000e+00 - val_loss: 5.1664 - val_accuracy: 0.0000e+00\n",
      "Epoch 2/5\n",
      "86/86 [==============================] - 0s 1ms/step - loss: 4.9580 - accuracy: 0.0000e+00 - val_loss: 4.5233 - val_accuracy: 0.0000e+00\n",
      "Epoch 3/5\n",
      "86/86 [==============================] - 0s 2ms/step - loss: 4.2441 - accuracy: 0.0000e+00 - val_loss: 4.2516 - val_accuracy: 0.0000e+00\n",
      "Epoch 4/5\n",
      "86/86 [==============================] - 0s 1ms/step - loss: 4.1304 - accuracy: 0.0000e+00 - val_loss: 4.2113 - val_accuracy: 0.0000e+00\n",
      "Epoch 5/5\n",
      "86/86 [==============================] - 0s 1ms/step - loss: 4.0605 - accuracy: 0.0000e+00 - val_loss: 3.9634 - val_accuracy: 0.0000e+00\n"
     ]
    },
    {
     "data": {
      "image/png": "[encoded data removed]",
      "text/plain": [
       "<Figure size 576x396 with 1 Axes>"
      ]
     },
     "metadata": {},
     "output_type": "display_data"
    }
   ],
   "source": [
    "#fitting ANN model into training data\n",
    "history = model.fit(X_train, y_train, validation_data=(X_test, y_test),epochs=5, verbose=1)\n",
    "\n",
    "# Get training and test loss histories\n",
    "training_loss = history.history['loss']\n",
    "test_loss = history.history['val_loss']\n",
    "\n",
    "# Create count of the number of epochs\n",
    "epoch_count = range(1, len(training_loss) + 1)\n",
    "\n",
    "# Visualize loss history\n",
    "plt.plot(epoch_count, training_loss, 'r--')\n",
    "plt.plot(epoch_count, test_loss, 'b-')\n",
    "plt.legend(['Training Loss', 'Test Loss'])\n",
    "plt.xlabel('Epoch')\n",
    "plt.ylabel('Loss')\n",
    "plt.show();"
   ]
  },
  {
   "cell_type": "markdown",
   "id": "3717d7b1",
   "metadata": {},
   "source": [
    "### INFERENCE\n",
    "\n",
    "From the above graph we can see that the Loss of Training almost touches 5.75 where as the test touchesto 5.15 at Epoch 1.0\n",
    "And Also they intersected at Epoch 3.0 and 5.0 .The loss is really high at the intial values of epoch and it gradually decreased as\n",
    "the value of the epoch increased.The modern default activation function for hidden layers is the ReLU function."
   ]
  },
  {
   "cell_type": "markdown",
   "id": "e5f5337e",
   "metadata": {},
   "source": [
    " "
   ]
  },
  {
   "cell_type": "markdown",
   "id": "8d556752",
   "metadata": {},
   "source": [
    "# TANH activation function"
   ]
  },
  {
   "cell_type": "code",
   "execution_count": 115,
   "id": "e2cf407f",
   "metadata": {},
   "outputs": [],
   "source": [
    "# define keras model\n",
    "model=tf.keras.Sequential()\n",
    "\n",
    "model.add(tf.keras.layers.Dense(units=25,activation='tanh'))\n",
    "\n",
    "#compile keras model\n",
    "model.compile('adam','binary_crossentropy',metrics=['accuracy'])"
   ]
  },
  {
   "cell_type": "code",
   "execution_count": 116,
   "id": "f90df856",
   "metadata": {},
   "outputs": [
    {
     "name": "stdout",
     "output_type": "stream",
     "text": [
      "Epoch 1/5\n",
      "86/86 [==============================] - 1s 5ms/step - loss: 8.6138 - accuracy: 0.1481 - val_loss: 6.7507 - val_accuracy: 0.0641\n",
      "Epoch 2/5\n",
      "86/86 [==============================] - 0s 2ms/step - loss: 6.4024 - accuracy: 0.0443 - val_loss: 5.9461 - val_accuracy: 0.0641\n",
      "Epoch 3/5\n",
      "86/86 [==============================] - 0s 1ms/step - loss: 5.8417 - accuracy: 0.0530 - val_loss: 5.7929 - val_accuracy: 0.0641\n",
      "Epoch 4/5\n",
      "86/86 [==============================] - 0s 1ms/step - loss: 5.7052 - accuracy: 0.0458 - val_loss: 5.7810 - val_accuracy: 0.0641\n",
      "Epoch 5/5\n",
      "86/86 [==============================] - 0s 1ms/step - loss: 5.7271 - accuracy: 0.0530 - val_loss: 5.7797 - val_accuracy: 0.0641\n"
     ]
    },
    {
     "data": {
      "image/png": "[encoded data removed]",
      "text/plain": [
       "<Figure size 576x396 with 1 Axes>"
      ]
     },
     "metadata": {},
     "output_type": "display_data"
    }
   ],
   "source": [
    "#fitting ANN model into training data\n",
    "history = model.fit(X_train, y_train, validation_data=(X_test, y_test),epochs=5, verbose=1)\n",
    "\n",
    "# Get training and test loss histories\n",
    "training_loss = history.history['loss']\n",
    "test_loss = history.history['val_loss']\n",
    "\n",
    "# Create count of the number of epochs\n",
    "epoch_count = range(1, len(training_loss) + 1)\n",
    "\n",
    "# Visualize loss history\n",
    "plt.plot(epoch_count, training_loss, 'r--')\n",
    "plt.plot(epoch_count, test_loss, 'b-')\n",
    "plt.legend(['Training Loss', 'Test Loss'])\n",
    "plt.xlabel('Epoch')\n",
    "plt.ylabel('Loss')\n",
    "plt.show();"
   ]
  },
  {
   "cell_type": "markdown",
   "id": "657ff68d",
   "metadata": {},
   "source": [
    "### INFERENCE\n",
    "\n",
    "From the above graph we can see that the Loss of Training almost touches 8.0 where as the test touchesto 6.5 at Epoch 1.0 \n",
    "And Also they intersected at Epoch 2.8 .The loss is really high at the intial values of epoch and it gradually decreased \n",
    "as the value of the epoch increased and it became constant after some particular value of epochso.They are basically used in\n",
    "feed-forward nets."
   ]
  },
  {
   "cell_type": "markdown",
   "id": "f4fafbf2",
   "metadata": {},
   "source": [
    " "
   ]
  },
  {
   "cell_type": "markdown",
   "id": "fa2ea04b",
   "metadata": {},
   "source": [
    "# SIGMOID activation function"
   ]
  },
  {
   "cell_type": "code",
   "execution_count": 117,
   "id": "923566ff",
   "metadata": {},
   "outputs": [],
   "source": [
    "# define keras model\n",
    "model=tf.keras.Sequential()\n",
    "\n",
    "model.add(tf.keras.layers.Dense(units=1,activation='sigmoid'))\n",
    "\n",
    "#compile keras model\n",
    "model.compile('adam','binary_crossentropy',metrics=['accuracy'])"
   ]
  },
  {
   "cell_type": "code",
   "execution_count": 118,
   "id": "d26eb672",
   "metadata": {},
   "outputs": [
    {
     "name": "stdout",
     "output_type": "stream",
     "text": [
      "Epoch 1/5\n",
      "86/86 [==============================] - 0s 3ms/step - loss: 4.7389 - accuracy: 0.9495 - val_loss: 4.9263 - val_accuracy: 0.9359\n",
      "Epoch 2/5\n",
      "86/86 [==============================] - 0s 1ms/step - loss: 3.1974 - accuracy: 0.9542 - val_loss: 3.8860 - val_accuracy: 0.9329\n",
      "Epoch 3/5\n",
      "86/86 [==============================] - 0s 1ms/step - loss: 3.1916 - accuracy: 0.9471 - val_loss: 2.9092 - val_accuracy: 0.9257\n",
      "Epoch 4/5\n",
      "86/86 [==============================] - 0s 2ms/step - loss: 2.4610 - accuracy: 0.9386 - val_loss: 2.2396 - val_accuracy: 0.8950\n",
      "Epoch 5/5\n",
      "86/86 [==============================] - 0s 1ms/step - loss: 1.6536 - accuracy: 0.9114 - val_loss: 2.0050 - val_accuracy: 0.8746\n"
     ]
    },
    {
     "data": {
      "image/png": "[encoded data removed]",
      "text/plain": [
       "<Figure size 576x396 with 1 Axes>"
      ]
     },
     "metadata": {},
     "output_type": "display_data"
    }
   ],
   "source": [
    "#fitting ANN model into training data\n",
    "history = model.fit(X_train, y_train, validation_data=(X_test, y_test),epochs=5, verbose=1)\n",
    "\n",
    "# Get training and test loss histories\n",
    "training_loss = history.history['loss']\n",
    "test_loss = history.history['val_loss']\n",
    "\n",
    "# Create count of the number of epochs\n",
    "epoch_count = range(1, len(training_loss) + 1)\n",
    "\n",
    "# Visualize loss history\n",
    "plt.plot(epoch_count, training_loss, 'r--')\n",
    "plt.plot(epoch_count, test_loss, 'b-')\n",
    "plt.legend(['Training Loss', 'Test Loss'])\n",
    "plt.xlabel('Epoch')\n",
    "plt.ylabel('Loss')\n",
    "plt.show();"
   ]
  },
  {
   "cell_type": "markdown",
   "id": "c4ac4111",
   "metadata": {},
   "source": [
    "### INFERENCE\n",
    "\n",
    "From the above graph we can see that the Loss of Training don't meet.\n",
    "so it usually does not perform well apparently it is used only for the output layer for the binary classification."
   ]
  }
 ],
 "metadata": {
  "kernelspec": {
   "display_name": "Python 3",
   "language": "python",
   "name": "python3"
  },
  "language_info": {
   "codemirror_mode": {
    "name": "ipython",
    "version": 3
   },
   "file_extension": ".py",
   "mimetype": "text/x-python",
   "name": "python",
   "nbconvert_exporter": "python",
   "pygments_lexer": "ipython3",
   "version": "3.8.5"
  }
 },
 "nbformat": 4,
 "nbformat_minor": 5
}
